{
 "cells": [
  {
   "cell_type": "code",
   "execution_count": 1,
   "metadata": {},
   "outputs": [],
   "source": [
    "import pandas_datareader as pdr"
   ]
  },
  {
   "cell_type": "code",
   "execution_count": 2,
   "metadata": {},
   "outputs": [],
   "source": [
    "key='2be0017e6abac71f587330eee449fd2a949a3e8c'\n",
    "df = pdr.get_data_tiingo('AAPL', api_key=key)"
   ]
  },
  {
   "cell_type": "code",
   "execution_count": 3,
   "metadata": {},
   "outputs": [],
   "source": [
    "df.to_csv('AAPL.csv')"
   ]
  },
  {
   "cell_type": "code",
   "execution_count": 4,
   "metadata": {},
   "outputs": [],
   "source": [
    "import pandas as pd"
   ]
  },
  {
   "cell_type": "code",
   "execution_count": 5,
   "metadata": {},
   "outputs": [],
   "source": [
    "df= pd.read_csv('AAPL.csv')"
   ]
  },
  {
   "cell_type": "code",
   "execution_count": 6,
   "metadata": {},
   "outputs": [
    {
     "data": {
      "text/html": [
       "<div>\n",
       "<style scoped>\n",
       "    .dataframe tbody tr th:only-of-type {\n",
       "        vertical-align: middle;\n",
       "    }\n",
       "\n",
       "    .dataframe tbody tr th {\n",
       "        vertical-align: top;\n",
       "    }\n",
       "\n",
       "    .dataframe thead th {\n",
       "        text-align: right;\n",
       "    }\n",
       "</style>\n",
       "<table border=\"1\" class=\"dataframe\">\n",
       "  <thead>\n",
       "    <tr style=\"text-align: right;\">\n",
       "      <th></th>\n",
       "      <th>symbol</th>\n",
       "      <th>date</th>\n",
       "      <th>close</th>\n",
       "      <th>high</th>\n",
       "      <th>low</th>\n",
       "      <th>open</th>\n",
       "      <th>volume</th>\n",
       "      <th>adjClose</th>\n",
       "      <th>adjHigh</th>\n",
       "      <th>adjLow</th>\n",
       "      <th>adjOpen</th>\n",
       "      <th>adjVolume</th>\n",
       "      <th>divCash</th>\n",
       "      <th>splitFactor</th>\n",
       "    </tr>\n",
       "  </thead>\n",
       "  <tbody>\n",
       "    <tr>\n",
       "      <th>0</th>\n",
       "      <td>AAPL</td>\n",
       "      <td>2015-07-16 00:00:00+00:00</td>\n",
       "      <td>128.51</td>\n",
       "      <td>128.57</td>\n",
       "      <td>127.35</td>\n",
       "      <td>127.74</td>\n",
       "      <td>36222447</td>\n",
       "      <td>118.424972</td>\n",
       "      <td>118.480264</td>\n",
       "      <td>117.356005</td>\n",
       "      <td>117.715399</td>\n",
       "      <td>36222447</td>\n",
       "      <td>0.0</td>\n",
       "      <td>1.0</td>\n",
       "    </tr>\n",
       "    <tr>\n",
       "      <th>1</th>\n",
       "      <td>AAPL</td>\n",
       "      <td>2015-07-17 00:00:00+00:00</td>\n",
       "      <td>129.62</td>\n",
       "      <td>129.62</td>\n",
       "      <td>128.31</td>\n",
       "      <td>129.08</td>\n",
       "      <td>46164710</td>\n",
       "      <td>119.447863</td>\n",
       "      <td>119.447863</td>\n",
       "      <td>118.240668</td>\n",
       "      <td>118.950241</td>\n",
       "      <td>46164710</td>\n",
       "      <td>0.0</td>\n",
       "      <td>1.0</td>\n",
       "    </tr>\n",
       "    <tr>\n",
       "      <th>2</th>\n",
       "      <td>AAPL</td>\n",
       "      <td>2015-07-20 00:00:00+00:00</td>\n",
       "      <td>132.07</td>\n",
       "      <td>132.97</td>\n",
       "      <td>130.70</td>\n",
       "      <td>130.97</td>\n",
       "      <td>58900203</td>\n",
       "      <td>121.705596</td>\n",
       "      <td>122.534967</td>\n",
       "      <td>120.443109</td>\n",
       "      <td>120.691920</td>\n",
       "      <td>58900203</td>\n",
       "      <td>0.0</td>\n",
       "      <td>1.0</td>\n",
       "    </tr>\n",
       "    <tr>\n",
       "      <th>3</th>\n",
       "      <td>AAPL</td>\n",
       "      <td>2015-07-21 00:00:00+00:00</td>\n",
       "      <td>130.75</td>\n",
       "      <td>132.92</td>\n",
       "      <td>130.32</td>\n",
       "      <td>132.85</td>\n",
       "      <td>76756427</td>\n",
       "      <td>120.489185</td>\n",
       "      <td>122.488891</td>\n",
       "      <td>120.092930</td>\n",
       "      <td>122.424384</td>\n",
       "      <td>76756427</td>\n",
       "      <td>0.0</td>\n",
       "      <td>1.0</td>\n",
       "    </tr>\n",
       "    <tr>\n",
       "      <th>4</th>\n",
       "      <td>AAPL</td>\n",
       "      <td>2015-07-22 00:00:00+00:00</td>\n",
       "      <td>125.22</td>\n",
       "      <td>125.50</td>\n",
       "      <td>121.99</td>\n",
       "      <td>121.99</td>\n",
       "      <td>115450607</td>\n",
       "      <td>115.393160</td>\n",
       "      <td>115.651187</td>\n",
       "      <td>112.416640</td>\n",
       "      <td>112.416640</td>\n",
       "      <td>115450607</td>\n",
       "      <td>0.0</td>\n",
       "      <td>1.0</td>\n",
       "    </tr>\n",
       "  </tbody>\n",
       "</table>\n",
       "</div>"
      ],
      "text/plain": [
       "  symbol                       date   close    high     low    open  \\\n",
       "0   AAPL  2015-07-16 00:00:00+00:00  128.51  128.57  127.35  127.74   \n",
       "1   AAPL  2015-07-17 00:00:00+00:00  129.62  129.62  128.31  129.08   \n",
       "2   AAPL  2015-07-20 00:00:00+00:00  132.07  132.97  130.70  130.97   \n",
       "3   AAPL  2015-07-21 00:00:00+00:00  130.75  132.92  130.32  132.85   \n",
       "4   AAPL  2015-07-22 00:00:00+00:00  125.22  125.50  121.99  121.99   \n",
       "\n",
       "      volume    adjClose     adjHigh      adjLow     adjOpen  adjVolume  \\\n",
       "0   36222447  118.424972  118.480264  117.356005  117.715399   36222447   \n",
       "1   46164710  119.447863  119.447863  118.240668  118.950241   46164710   \n",
       "2   58900203  121.705596  122.534967  120.443109  120.691920   58900203   \n",
       "3   76756427  120.489185  122.488891  120.092930  122.424384   76756427   \n",
       "4  115450607  115.393160  115.651187  112.416640  112.416640  115450607   \n",
       "\n",
       "   divCash  splitFactor  \n",
       "0      0.0          1.0  \n",
       "1      0.0          1.0  \n",
       "2      0.0          1.0  \n",
       "3      0.0          1.0  \n",
       "4      0.0          1.0  "
      ]
     },
     "execution_count": 6,
     "metadata": {},
     "output_type": "execute_result"
    }
   ],
   "source": [
    "df.head()"
   ]
  },
  {
   "cell_type": "code",
   "execution_count": 7,
   "metadata": {},
   "outputs": [
    {
     "data": {
      "text/html": [
       "<div>\n",
       "<style scoped>\n",
       "    .dataframe tbody tr th:only-of-type {\n",
       "        vertical-align: middle;\n",
       "    }\n",
       "\n",
       "    .dataframe tbody tr th {\n",
       "        vertical-align: top;\n",
       "    }\n",
       "\n",
       "    .dataframe thead th {\n",
       "        text-align: right;\n",
       "    }\n",
       "</style>\n",
       "<table border=\"1\" class=\"dataframe\">\n",
       "  <thead>\n",
       "    <tr style=\"text-align: right;\">\n",
       "      <th></th>\n",
       "      <th>symbol</th>\n",
       "      <th>date</th>\n",
       "      <th>close</th>\n",
       "      <th>high</th>\n",
       "      <th>low</th>\n",
       "      <th>open</th>\n",
       "      <th>volume</th>\n",
       "      <th>adjClose</th>\n",
       "      <th>adjHigh</th>\n",
       "      <th>adjLow</th>\n",
       "      <th>adjOpen</th>\n",
       "      <th>adjVolume</th>\n",
       "      <th>divCash</th>\n",
       "      <th>splitFactor</th>\n",
       "    </tr>\n",
       "  </thead>\n",
       "  <tbody>\n",
       "    <tr>\n",
       "      <th>1252</th>\n",
       "      <td>AAPL</td>\n",
       "      <td>2020-07-07 00:00:00+00:00</td>\n",
       "      <td>372.69</td>\n",
       "      <td>378.62</td>\n",
       "      <td>372.23</td>\n",
       "      <td>375.41</td>\n",
       "      <td>28207000</td>\n",
       "      <td>372.69</td>\n",
       "      <td>378.62</td>\n",
       "      <td>372.23</td>\n",
       "      <td>375.41</td>\n",
       "      <td>28207000</td>\n",
       "      <td>0.0</td>\n",
       "      <td>1.0</td>\n",
       "    </tr>\n",
       "    <tr>\n",
       "      <th>1253</th>\n",
       "      <td>AAPL</td>\n",
       "      <td>2020-07-08 00:00:00+00:00</td>\n",
       "      <td>381.37</td>\n",
       "      <td>381.50</td>\n",
       "      <td>376.36</td>\n",
       "      <td>376.72</td>\n",
       "      <td>29274500</td>\n",
       "      <td>381.37</td>\n",
       "      <td>381.50</td>\n",
       "      <td>376.36</td>\n",
       "      <td>376.72</td>\n",
       "      <td>29274500</td>\n",
       "      <td>0.0</td>\n",
       "      <td>1.0</td>\n",
       "    </tr>\n",
       "    <tr>\n",
       "      <th>1254</th>\n",
       "      <td>AAPL</td>\n",
       "      <td>2020-07-09 00:00:00+00:00</td>\n",
       "      <td>383.01</td>\n",
       "      <td>385.27</td>\n",
       "      <td>378.69</td>\n",
       "      <td>385.05</td>\n",
       "      <td>31420400</td>\n",
       "      <td>383.01</td>\n",
       "      <td>385.27</td>\n",
       "      <td>378.69</td>\n",
       "      <td>385.05</td>\n",
       "      <td>31420400</td>\n",
       "      <td>0.0</td>\n",
       "      <td>1.0</td>\n",
       "    </tr>\n",
       "    <tr>\n",
       "      <th>1255</th>\n",
       "      <td>AAPL</td>\n",
       "      <td>2020-07-10 00:00:00+00:00</td>\n",
       "      <td>383.68</td>\n",
       "      <td>383.92</td>\n",
       "      <td>378.82</td>\n",
       "      <td>381.34</td>\n",
       "      <td>22564300</td>\n",
       "      <td>383.68</td>\n",
       "      <td>383.92</td>\n",
       "      <td>378.82</td>\n",
       "      <td>381.34</td>\n",
       "      <td>22564300</td>\n",
       "      <td>0.0</td>\n",
       "      <td>1.0</td>\n",
       "    </tr>\n",
       "    <tr>\n",
       "      <th>1256</th>\n",
       "      <td>AAPL</td>\n",
       "      <td>2020-07-13 00:00:00+00:00</td>\n",
       "      <td>381.91</td>\n",
       "      <td>399.82</td>\n",
       "      <td>381.03</td>\n",
       "      <td>389.06</td>\n",
       "      <td>47913100</td>\n",
       "      <td>381.91</td>\n",
       "      <td>399.82</td>\n",
       "      <td>381.03</td>\n",
       "      <td>389.06</td>\n",
       "      <td>47913100</td>\n",
       "      <td>0.0</td>\n",
       "      <td>1.0</td>\n",
       "    </tr>\n",
       "  </tbody>\n",
       "</table>\n",
       "</div>"
      ],
      "text/plain": [
       "     symbol                       date   close    high     low    open  \\\n",
       "1252   AAPL  2020-07-07 00:00:00+00:00  372.69  378.62  372.23  375.41   \n",
       "1253   AAPL  2020-07-08 00:00:00+00:00  381.37  381.50  376.36  376.72   \n",
       "1254   AAPL  2020-07-09 00:00:00+00:00  383.01  385.27  378.69  385.05   \n",
       "1255   AAPL  2020-07-10 00:00:00+00:00  383.68  383.92  378.82  381.34   \n",
       "1256   AAPL  2020-07-13 00:00:00+00:00  381.91  399.82  381.03  389.06   \n",
       "\n",
       "        volume  adjClose  adjHigh  adjLow  adjOpen  adjVolume  divCash  \\\n",
       "1252  28207000    372.69   378.62  372.23   375.41   28207000      0.0   \n",
       "1253  29274500    381.37   381.50  376.36   376.72   29274500      0.0   \n",
       "1254  31420400    383.01   385.27  378.69   385.05   31420400      0.0   \n",
       "1255  22564300    383.68   383.92  378.82   381.34   22564300      0.0   \n",
       "1256  47913100    381.91   399.82  381.03   389.06   47913100      0.0   \n",
       "\n",
       "      splitFactor  \n",
       "1252          1.0  \n",
       "1253          1.0  \n",
       "1254          1.0  \n",
       "1255          1.0  \n",
       "1256          1.0  "
      ]
     },
     "execution_count": 7,
     "metadata": {},
     "output_type": "execute_result"
    }
   ],
   "source": [
    "df.tail()"
   ]
  },
  {
   "cell_type": "code",
   "execution_count": 8,
   "metadata": {},
   "outputs": [],
   "source": [
    "df1 = df.reset_index()['close']"
   ]
  },
  {
   "cell_type": "code",
   "execution_count": 9,
   "metadata": {},
   "outputs": [
    {
     "data": {
      "text/plain": [
       "(1257,)"
      ]
     },
     "execution_count": 9,
     "metadata": {},
     "output_type": "execute_result"
    }
   ],
   "source": [
    "df1.shape"
   ]
  },
  {
   "cell_type": "code",
   "execution_count": 10,
   "metadata": {},
   "outputs": [
    {
     "data": {
      "text/plain": [
       "0       128.51\n",
       "1       129.62\n",
       "2       132.07\n",
       "3       130.75\n",
       "4       125.22\n",
       "         ...  \n",
       "1252    372.69\n",
       "1253    381.37\n",
       "1254    383.01\n",
       "1255    383.68\n",
       "1256    381.91\n",
       "Name: close, Length: 1257, dtype: float64"
      ]
     },
     "execution_count": 10,
     "metadata": {},
     "output_type": "execute_result"
    }
   ],
   "source": [
    "df1"
   ]
  },
  {
   "cell_type": "code",
   "execution_count": 11,
   "metadata": {},
   "outputs": [],
   "source": [
    "import matplotlib.pyplot as plt"
   ]
  },
  {
   "cell_type": "code",
   "execution_count": 12,
   "metadata": {},
   "outputs": [
    {
     "data": {
      "image/png": "[encoded data removed]",
      "text/plain": [
       "<Figure size 432x288 with 1 Axes>"
      ]
     },
     "metadata": {
      "needs_background": "light"
     },
     "output_type": "display_data"
    }
   ],
   "source": [
    "plt.plot(df1);"
   ]
  },
  {
   "cell_type": "code",
   "execution_count": 13,
   "metadata": {},
   "outputs": [],
   "source": [
    "import numpy as np"
   ]
  },
  {
   "cell_type": "code",
   "execution_count": 14,
   "metadata": {},
   "outputs": [],
   "source": [
    "from sklearn.preprocessing import MinMaxScaler"
   ]
  },
  {
   "cell_type": "code",
   "execution_count": 15,
   "metadata": {},
   "outputs": [],
   "source": [
    "scaler = MinMaxScaler(feature_range=(0,1))\n",
    "df1 = scaler.fit_transform(np.array(df1).reshape(-1,1))"
   ]
  },
  {
   "cell_type": "code",
   "execution_count": 16,
   "metadata": {},
   "outputs": [
    {
     "data": {
      "text/plain": [
       "(1257, 1)"
      ]
     },
     "execution_count": 16,
     "metadata": {},
     "output_type": "execute_result"
    }
   ],
   "source": [
    "df1.shape"
   ]
  },
  {
   "cell_type": "code",
   "execution_count": 17,
   "metadata": {},
   "outputs": [
    {
     "data": {
      "text/plain": [
       "array([[0.13012204],\n",
       "       [0.13390605],\n",
       "       [0.14225813],\n",
       "       ...,\n",
       "       [0.99771596],\n",
       "       [1.        ],\n",
       "       [0.99396605]])"
      ]
     },
     "execution_count": 17,
     "metadata": {},
     "output_type": "execute_result"
    }
   ],
   "source": [
    "df1"
   ]
  },
  {
   "cell_type": "code",
   "execution_count": 18,
   "metadata": {},
   "outputs": [],
   "source": [
    "training_size = int(len(df1)*0.65)\n",
    "test_size = len(df1) - training_size\n",
    "train_data, test_data = df1[:training_size,:], df1[training_size:len(df1),:1]"
   ]
  },
  {
   "cell_type": "code",
   "execution_count": 19,
   "metadata": {},
   "outputs": [
    {
     "data": {
      "text/plain": [
       "((817, 1), (440, 1))"
      ]
     },
     "execution_count": 19,
     "metadata": {},
     "output_type": "execute_result"
    }
   ],
   "source": [
    "train_data.shape, test_data.shape"
   ]
  },
  {
   "cell_type": "code",
   "execution_count": 20,
   "metadata": {},
   "outputs": [],
   "source": [
    "import numpy as np\n",
    "\n",
    "def create_dataset(dataset, time_step=1):\n",
    "    dataX, dataY = [],[]\n",
    "    for i in range(len(dataset) - time_step-1):\n",
    "        a = dataset[i:(i+time_step),0]\n",
    "        dataX.append(a)\n",
    "        dataY.append(dataset[i+time_step,0])\n",
    "    return np.array(dataX), np.array(dataY)"
   ]
  },
  {
   "cell_type": "code",
   "execution_count": 21,
   "metadata": {},
   "outputs": [],
   "source": [
    "time_step=100\n",
    "X_train, y_train = create_dataset(train_data, time_step)\n",
    "X_test, y_test = create_dataset(test_data, time_step)"
   ]
  },
  {
   "cell_type": "code",
   "execution_count": 22,
   "metadata": {},
   "outputs": [
    {
     "name": "stdout",
     "output_type": "stream",
     "text": [
      "[[0.13012204 0.13390605 0.14225813 ... 0.08842981 0.08474807 0.0978046 ]\n",
      " [0.13390605 0.14225813 0.13775823 ... 0.08474807 0.0978046  0.09524784]\n",
      " [0.14225813 0.13775823 0.11890639 ... 0.0978046  0.09524784 0.09507738]\n",
      " ...\n",
      " [0.32760619 0.33353787 0.32948115 ... 0.47364833 0.48315947 0.4692507 ]\n",
      " [0.33353787 0.32948115 0.32716302 ... 0.48315947 0.4692507  0.45663735]\n",
      " [0.32948115 0.32716302 0.33166292 ... 0.4692507  0.45663735 0.45486466]]\n"
     ]
    }
   ],
   "source": [
    "print(X_train)"
   ]
  },
  {
   "cell_type": "code",
   "execution_count": 23,
   "metadata": {},
   "outputs": [
    {
     "name": "stdout",
     "output_type": "stream",
     "text": [
      "(339, 100) (339,)\n",
      "(716, 100) (716,)\n"
     ]
    }
   ],
   "source": [
    "print(X_test.shape, y_test.shape)\n",
    "print(X_train.shape, y_train.shape)"
   ]
  },
  {
   "cell_type": "code",
   "execution_count": 24,
   "metadata": {},
   "outputs": [],
   "source": [
    "X_train = X_train.reshape(X_train.shape[0], X_train.shape[1],1)\n",
    "X_test = X_test.reshape(X_test.shape[0], X_test.shape[1],1)"
   ]
  },
  {
   "cell_type": "code",
   "execution_count": 25,
   "metadata": {},
   "outputs": [],
   "source": [
    "from tensorflow.keras.models import Sequential\n",
    "from tensorflow.keras.layers import Dense\n",
    "from tensorflow.keras.layers import LSTM"
   ]
  },
  {
   "cell_type": "code",
   "execution_count": 26,
   "metadata": {},
   "outputs": [],
   "source": [
    "model = Sequential()\n",
    "model.add(LSTM(50,return_sequences=True, input_shape=(100,1)))\n",
    "model.add(LSTM(50, return_sequences=True))\n",
    "model.add(LSTM(50))\n",
    "model.add(Dense(1))\n",
    "model.compile(loss='mean_squared_error', optimizer='adam')"
   ]
  },
  {
   "cell_type": "code",
   "execution_count": 27,
   "metadata": {},
   "outputs": [
    {
     "name": "stdout",
     "output_type": "stream",
     "text": [
      "Model: \"sequential\"\n",
      "_________________________________________________________________\n",
      "Layer (type)                 Output Shape              Param #   \n",
      "=================================================================\n",
      "lstm (LSTM)                  (None, 100, 50)           10400     \n",
      "_________________________________________________________________\n",
      "lstm_1 (LSTM)                (None, 100, 50)           20200     \n",
      "_________________________________________________________________\n",
      "lstm_2 (LSTM)                (None, 50)                20200     \n",
      "_________________________________________________________________\n",
      "dense (Dense)                (None, 1)                 51        \n",
      "=================================================================\n",
      "Total params: 50,851\n",
      "Trainable params: 50,851\n",
      "Non-trainable params: 0\n",
      "_________________________________________________________________\n"
     ]
    }
   ],
   "source": [
    "model.summary()"
   ]
  },
  {
   "cell_type": "code",
   "execution_count": 28,
   "metadata": {
    "scrolled": true
   },
   "outputs": [
    {
     "name": "stdout",
     "output_type": "stream",
     "text": [
      "Epoch 1/100\n",
      "12/12 [==============================] - 5s 446ms/step - loss: 0.0137 - val_loss: 0.0516\n",
      "Epoch 2/100\n",
      "12/12 [==============================] - 3s 270ms/step - loss: 0.0025 - val_loss: 0.0032\n",
      "Epoch 3/100\n",
      "12/12 [==============================] - 3s 255ms/step - loss: 6.9865e-04 - val_loss: 0.0056\n",
      "Epoch 4/100\n",
      "12/12 [==============================] - 3s 261ms/step - loss: 5.0746e-04 - val_loss: 0.0031\n",
      "Epoch 5/100\n",
      "12/12 [==============================] - 3s 257ms/step - loss: 4.2685e-04 - val_loss: 0.0031\n",
      "Epoch 6/100\n",
      "12/12 [==============================] - 3s 257ms/step - loss: 3.9536e-04 - val_loss: 0.0028\n",
      "Epoch 7/100\n",
      "12/12 [==============================] - 3s 257ms/step - loss: 4.1483e-04 - val_loss: 0.0028\n",
      "Epoch 8/100\n",
      "12/12 [==============================] - 3s 262ms/step - loss: 4.2269e-04 - val_loss: 0.0028\n",
      "Epoch 9/100\n",
      "12/12 [==============================] - 3s 252ms/step - loss: 4.1447e-04 - val_loss: 0.0028\n",
      "Epoch 10/100\n",
      "12/12 [==============================] - 3s 259ms/step - loss: 3.9196e-04 - val_loss: 0.0029\n",
      "Epoch 11/100\n",
      "12/12 [==============================] - 3s 265ms/step - loss: 3.8463e-04 - val_loss: 0.0032\n",
      "Epoch 12/100\n",
      "12/12 [==============================] - 3s 250ms/step - loss: 3.8573e-04 - val_loss: 0.0025\n",
      "Epoch 13/100\n",
      "12/12 [==============================] - 3s 256ms/step - loss: 3.7041e-04 - val_loss: 0.0026\n",
      "Epoch 14/100\n",
      "12/12 [==============================] - 3s 258ms/step - loss: 3.6367e-04 - val_loss: 0.0024\n",
      "Epoch 15/100\n",
      "12/12 [==============================] - 3s 256ms/step - loss: 3.6556e-04 - val_loss: 0.0024\n",
      "Epoch 16/100\n",
      "12/12 [==============================] - 3s 257ms/step - loss: 3.6938e-04 - val_loss: 0.0023\n",
      "Epoch 17/100\n",
      "12/12 [==============================] - 3s 260ms/step - loss: 3.4734e-04 - val_loss: 0.0024\n",
      "Epoch 18/100\n",
      "12/12 [==============================] - 3s 257ms/step - loss: 3.6896e-04 - val_loss: 0.0022\n",
      "Epoch 19/100\n",
      "12/12 [==============================] - 3s 257ms/step - loss: 3.4976e-04 - val_loss: 0.0021\n",
      "Epoch 20/100\n",
      "12/12 [==============================] - 3s 257ms/step - loss: 3.3501e-04 - val_loss: 0.0021\n",
      "Epoch 21/100\n",
      "12/12 [==============================] - 3s 262ms/step - loss: 3.3427e-04 - val_loss: 0.0020\n",
      "Epoch 22/100\n",
      "12/12 [==============================] - 3s 259ms/step - loss: 3.2857e-04 - val_loss: 0.0027\n",
      "Epoch 23/100\n",
      "12/12 [==============================] - 3s 259ms/step - loss: 3.6540e-04 - val_loss: 0.0026\n",
      "Epoch 24/100\n",
      "12/12 [==============================] - 3s 263ms/step - loss: 3.8669e-04 - val_loss: 0.0018\n",
      "Epoch 25/100\n",
      "12/12 [==============================] - 3s 266ms/step - loss: 3.1102e-04 - val_loss: 0.0018\n",
      "Epoch 26/100\n",
      "12/12 [==============================] - 3s 256ms/step - loss: 3.0369e-04 - val_loss: 0.0017\n",
      "Epoch 27/100\n",
      "12/12 [==============================] - 3s 252ms/step - loss: 2.9558e-04 - val_loss: 0.0022\n",
      "Epoch 28/100\n",
      "12/12 [==============================] - 3s 254ms/step - loss: 3.0993e-04 - val_loss: 0.0016\n",
      "Epoch 29/100\n",
      "12/12 [==============================] - 3s 254ms/step - loss: 3.2601e-04 - val_loss: 0.0015\n",
      "Epoch 30/100\n",
      "12/12 [==============================] - 3s 250ms/step - loss: 2.8593e-04 - val_loss: 0.0016\n",
      "Epoch 31/100\n",
      "12/12 [==============================] - 3s 251ms/step - loss: 2.8217e-04 - val_loss: 0.0015\n",
      "Epoch 32/100\n",
      "12/12 [==============================] - 3s 250ms/step - loss: 2.7640e-04 - val_loss: 0.0014\n",
      "Epoch 33/100\n",
      "12/12 [==============================] - 3s 248ms/step - loss: 2.9135e-04 - val_loss: 0.0014\n",
      "Epoch 34/100\n",
      "12/12 [==============================] - 3s 249ms/step - loss: 2.7031e-04 - val_loss: 0.0015\n",
      "Epoch 35/100\n",
      "12/12 [==============================] - 3s 253ms/step - loss: 2.6677e-04 - val_loss: 0.0016\n",
      "Epoch 36/100\n",
      "12/12 [==============================] - 3s 248ms/step - loss: 2.6880e-04 - val_loss: 0.0013\n",
      "Epoch 37/100\n",
      "12/12 [==============================] - 3s 254ms/step - loss: 2.6025e-04 - val_loss: 0.0013\n",
      "Epoch 38/100\n",
      "12/12 [==============================] - 3s 253ms/step - loss: 2.9113e-04 - val_loss: 0.0022\n",
      "Epoch 39/100\n",
      "12/12 [==============================] - 3s 252ms/step - loss: 2.9436e-04 - val_loss: 0.0012\n",
      "Epoch 40/100\n",
      "12/12 [==============================] - 3s 250ms/step - loss: 2.8350e-04 - val_loss: 0.0020\n",
      "Epoch 41/100\n",
      "12/12 [==============================] - 3s 250ms/step - loss: 3.2006e-04 - val_loss: 0.0016\n",
      "Epoch 42/100\n",
      "12/12 [==============================] - 3s 251ms/step - loss: 3.2130e-04 - val_loss: 0.0018\n",
      "Epoch 43/100\n",
      "12/12 [==============================] - 3s 250ms/step - loss: 2.6227e-04 - val_loss: 0.0011\n",
      "Epoch 44/100\n",
      "12/12 [==============================] - 3s 248ms/step - loss: 2.3518e-04 - val_loss: 0.0012\n",
      "Epoch 45/100\n",
      "12/12 [==============================] - 3s 249ms/step - loss: 2.3891e-04 - val_loss: 0.0012\n",
      "Epoch 46/100\n",
      "12/12 [==============================] - 3s 251ms/step - loss: 2.3010e-04 - val_loss: 0.0011\n",
      "Epoch 47/100\n",
      "12/12 [==============================] - 3s 253ms/step - loss: 2.4406e-04 - val_loss: 0.0013\n",
      "Epoch 48/100\n",
      "12/12 [==============================] - 3s 256ms/step - loss: 2.4221e-04 - val_loss: 0.0011\n",
      "Epoch 49/100\n",
      "12/12 [==============================] - 3s 252ms/step - loss: 2.4060e-04 - val_loss: 0.0016\n",
      "Epoch 50/100\n",
      "12/12 [==============================] - 3s 249ms/step - loss: 2.5027e-04 - val_loss: 0.0012\n",
      "Epoch 51/100\n",
      "12/12 [==============================] - 3s 245ms/step - loss: 2.3078e-04 - val_loss: 0.0016\n",
      "Epoch 52/100\n",
      "12/12 [==============================] - 3s 249ms/step - loss: 2.2884e-04 - val_loss: 0.0011\n",
      "Epoch 53/100\n",
      "12/12 [==============================] - 3s 249ms/step - loss: 2.1807e-04 - val_loss: 0.0010\n",
      "Epoch 54/100\n",
      "12/12 [==============================] - 3s 252ms/step - loss: 2.1105e-04 - val_loss: 0.0010\n",
      "Epoch 55/100\n",
      "12/12 [==============================] - 3s 251ms/step - loss: 2.2134e-04 - val_loss: 9.8347e-04\n",
      "Epoch 56/100\n",
      "12/12 [==============================] - 3s 254ms/step - loss: 2.3944e-04 - val_loss: 0.0030\n",
      "Epoch 57/100\n",
      "12/12 [==============================] - 3s 257ms/step - loss: 3.0020e-04 - val_loss: 0.0011\n",
      "Epoch 58/100\n",
      "12/12 [==============================] - 3s 255ms/step - loss: 2.3281e-04 - val_loss: 0.0012\n",
      "Epoch 59/100\n",
      "12/12 [==============================] - 3s 268ms/step - loss: 2.1023e-04 - val_loss: 9.8998e-04\n",
      "Epoch 60/100\n",
      "12/12 [==============================] - 3s 255ms/step - loss: 2.0050e-04 - val_loss: 0.0011\n",
      "Epoch 61/100\n",
      "12/12 [==============================] - 3s 254ms/step - loss: 2.0147e-04 - val_loss: 0.0014\n",
      "Epoch 62/100\n",
      "12/12 [==============================] - 3s 252ms/step - loss: 2.1087e-04 - val_loss: 9.4991e-04\n",
      "Epoch 63/100\n",
      "12/12 [==============================] - 3s 252ms/step - loss: 1.9533e-04 - val_loss: 9.4558e-04\n",
      "Epoch 64/100\n",
      "12/12 [==============================] - 3s 249ms/step - loss: 1.9901e-04 - val_loss: 9.9220e-04\n",
      "Epoch 65/100\n",
      "12/12 [==============================] - 3s 256ms/step - loss: 2.0497e-04 - val_loss: 9.4580e-04\n",
      "Epoch 66/100\n",
      "12/12 [==============================] - 3s 257ms/step - loss: 1.9890e-04 - val_loss: 0.0010\n",
      "Epoch 67/100\n",
      "12/12 [==============================] - 3s 266ms/step - loss: 2.1056e-04 - val_loss: 0.0010\n",
      "Epoch 68/100\n",
      "12/12 [==============================] - 3s 254ms/step - loss: 2.0659e-04 - val_loss: 0.0013\n",
      "Epoch 69/100\n",
      "12/12 [==============================] - 3s 256ms/step - loss: 2.0728e-04 - val_loss: 0.0012\n",
      "Epoch 70/100\n",
      "12/12 [==============================] - 3s 255ms/step - loss: 1.8370e-04 - val_loss: 0.0011\n",
      "Epoch 71/100\n",
      "12/12 [==============================] - 3s 257ms/step - loss: 1.8687e-04 - val_loss: 9.6500e-04\n",
      "Epoch 72/100\n",
      "12/12 [==============================] - 3s 254ms/step - loss: 1.9309e-04 - val_loss: 9.3094e-04\n",
      "Epoch 73/100\n",
      "12/12 [==============================] - 3s 253ms/step - loss: 1.7440e-04 - val_loss: 9.3337e-04\n",
      "Epoch 74/100\n",
      "12/12 [==============================] - 3s 254ms/step - loss: 1.8371e-04 - val_loss: 9.2358e-04\n",
      "Epoch 75/100\n",
      "12/12 [==============================] - 3s 255ms/step - loss: 2.2200e-04 - val_loss: 0.0019\n",
      "Epoch 76/100\n",
      "12/12 [==============================] - 3s 266ms/step - loss: 2.0609e-04 - val_loss: 0.0013\n",
      "Epoch 77/100\n",
      "12/12 [==============================] - 3s 275ms/step - loss: 2.8529e-04 - val_loss: 0.0025\n",
      "Epoch 78/100\n"
     ]
    },
    {
     "name": "stdout",
     "output_type": "stream",
     "text": [
      "12/12 [==============================] - 3s 271ms/step - loss: 2.3052e-04 - val_loss: 0.0012\n",
      "Epoch 79/100\n",
      "12/12 [==============================] - 3s 275ms/step - loss: 2.5252e-04 - val_loss: 0.0022\n",
      "Epoch 80/100\n",
      "12/12 [==============================] - 3s 275ms/step - loss: 2.1084e-04 - val_loss: 0.0012\n",
      "Epoch 81/100\n",
      "12/12 [==============================] - 3s 264ms/step - loss: 2.4999e-04 - val_loss: 0.0021\n",
      "Epoch 82/100\n",
      "12/12 [==============================] - 3s 257ms/step - loss: 2.1472e-04 - val_loss: 0.0011\n",
      "Epoch 83/100\n",
      "12/12 [==============================] - 3s 264ms/step - loss: 1.8993e-04 - val_loss: 0.0011\n",
      "Epoch 84/100\n",
      "12/12 [==============================] - 3s 259ms/step - loss: 1.6414e-04 - val_loss: 9.5854e-04\n",
      "Epoch 85/100\n",
      "12/12 [==============================] - 3s 258ms/step - loss: 1.6614e-04 - val_loss: 0.0012\n",
      "Epoch 86/100\n",
      "12/12 [==============================] - 3s 256ms/step - loss: 1.5655e-04 - val_loss: 8.6401e-04\n",
      "Epoch 87/100\n",
      "12/12 [==============================] - 3s 260ms/step - loss: 1.5622e-04 - val_loss: 0.0016\n",
      "Epoch 88/100\n",
      "12/12 [==============================] - 3s 263ms/step - loss: 1.7916e-04 - val_loss: 8.7945e-04\n",
      "Epoch 89/100\n",
      "12/12 [==============================] - 3s 257ms/step - loss: 1.7863e-04 - val_loss: 9.9838e-04\n",
      "Epoch 90/100\n",
      "12/12 [==============================] - 3s 254ms/step - loss: 1.5549e-04 - val_loss: 8.8636e-04\n",
      "Epoch 91/100\n",
      "12/12 [==============================] - 3s 253ms/step - loss: 1.5751e-04 - val_loss: 0.0010\n",
      "Epoch 92/100\n",
      "12/12 [==============================] - 3s 257ms/step - loss: 1.4462e-04 - val_loss: 8.6997e-04\n",
      "Epoch 93/100\n",
      "12/12 [==============================] - 3s 257ms/step - loss: 1.5231e-04 - val_loss: 9.9399e-04\n",
      "Epoch 94/100\n",
      "12/12 [==============================] - 3s 260ms/step - loss: 1.4182e-04 - val_loss: 9.0232e-04\n",
      "Epoch 95/100\n",
      "12/12 [==============================] - 3s 259ms/step - loss: 1.4273e-04 - val_loss: 8.5522e-04\n",
      "Epoch 96/100\n",
      "12/12 [==============================] - 3s 259ms/step - loss: 1.5515e-04 - val_loss: 0.0011\n",
      "Epoch 97/100\n",
      "12/12 [==============================] - 3s 259ms/step - loss: 1.4091e-04 - val_loss: 8.2495e-04\n",
      "Epoch 98/100\n",
      "12/12 [==============================] - 3s 257ms/step - loss: 1.4123e-04 - val_loss: 8.4015e-04\n",
      "Epoch 99/100\n",
      "12/12 [==============================] - 3s 258ms/step - loss: 1.4016e-04 - val_loss: 0.0010\n",
      "Epoch 100/100\n",
      "12/12 [==============================] - 3s 258ms/step - loss: 1.4016e-04 - val_loss: 8.6916e-04\n"
     ]
    },
    {
     "data": {
      "text/plain": [
       "<tensorflow.python.keras.callbacks.History at 0x133f0e8b668>"
      ]
     },
     "execution_count": 28,
     "metadata": {},
     "output_type": "execute_result"
    }
   ],
   "source": [
    "model.fit(X_train, y_train, validation_data=(X_test, y_test),epochs=100, batch_size=64, verbose=1)                                "
   ]
  },
  {
   "cell_type": "code",
   "execution_count": 29,
   "metadata": {},
   "outputs": [],
   "source": [
    "train_predict = model.predict(X_train)\n",
    "test_predict = model.predict(X_test)"
   ]
  },
  {
   "cell_type": "code",
   "execution_count": 31,
   "metadata": {},
   "outputs": [],
   "source": [
    "train_predict = scaler.inverse_transform(train_predict)\n",
    "test_predict = scaler.inverse_transform(test_predict)"
   ]
  },
  {
   "cell_type": "code",
   "execution_count": 32,
   "metadata": {},
   "outputs": [
    {
     "name": "stdout",
     "output_type": "stream",
     "text": [
      "Training error 147.77625546377809\n",
      "Testing error 254.8831583299291\n"
     ]
    }
   ],
   "source": [
    "import math\n",
    "from sklearn.metrics import mean_squared_error\n",
    "print(\"Training error\", math.sqrt(mean_squared_error(y_train, train_predict))) \n",
    "print(\"Testing error\", math.sqrt(mean_squared_error(y_test, test_predict)))"
   ]
  },
  {
   "cell_type": "code",
   "execution_count": 36,
   "metadata": {},
   "outputs": [
    {
     "data": {
      "image/png": "[encoded data removed]",
      "text/plain": [
       "<Figure size 432x288 with 1 Axes>"
      ]
     },
     "metadata": {
      "needs_background": "light"
     },
     "output_type": "display_data"
    }
   ],
   "source": [
    "lookback = 100\n",
    "trainPredictPlot = np.empty_like(df1)\n",
    "trainPredictPlot[:,:] = np.nan\n",
    "trainPredictPlot[lookback:len(train_predict)+lookback, :] = train_predict\n",
    "\n",
    "testPredictPlot = np.empty_like(df1)\n",
    "testPredictPlot[:, :] = np.nan\n",
    "testPredictPlot[len(train_predict)+(lookback*2)+1 : len(df1)-1,:] = test_predict\n",
    "\n",
    "plt.plot(scaler.inverse_transform(df1))\n",
    "plt.plot(trainPredictPlot)\n",
    "plt.plot(testPredictPlot)\n",
    "plt.show()"
   ]
  },
  {
   "cell_type": "code",
   "execution_count": 37,
   "metadata": {},
   "outputs": [
    {
     "data": {
      "text/plain": [
       "440"
      ]
     },
     "execution_count": 37,
     "metadata": {},
     "output_type": "execute_result"
    }
   ],
   "source": [
    "len(test_data)"
   ]
  },
  {
   "cell_type": "code",
   "execution_count": 49,
   "metadata": {},
   "outputs": [
    {
     "data": {
      "text/plain": [
       "(1, 100)"
      ]
     },
     "execution_count": 49,
     "metadata": {},
     "output_type": "execute_result"
    }
   ],
   "source": [
    "x_input = test_data[340:].reshape(1,-1)\n",
    "x_input.shape"
   ]
  },
  {
   "cell_type": "code",
   "execution_count": 50,
   "metadata": {},
   "outputs": [],
   "source": [
    "temp_input = list(x_input)\n",
    "temp_input = temp_input[0].tolist()"
   ]
  },
  {
   "cell_type": "code",
   "execution_count": 51,
   "metadata": {},
   "outputs": [
    {
     "data": {
      "text/plain": [
       "[0.783936728710711,\n",
       " 0.7592213813322425,\n",
       " 0.7085293516056453,\n",
       " 0.6740983159473647,\n",
       " 0.6896775073293787,\n",
       " 0.6244630803845366,\n",
       " 0.6239176382354946,\n",
       " 0.7106770300674984,\n",
       " 0.6783254926024408,\n",
       " 0.7240744528533442,\n",
       " 0.6905979409558873,\n",
       " 0.677336878707302,\n",
       " 0.5994068316629168,\n",
       " 0.6647576191450193,\n",
       " 0.6309742960387263,\n",
       " 0.5382491307015749,\n",
       " 0.6396331901547693,\n",
       " 0.5177268698438672,\n",
       " 0.5540328628894797,\n",
       " 0.5329310697484146,\n",
       " 0.5264880343628553,\n",
       " 0.4735119656371446,\n",
       " 0.45691007022567665,\n",
       " 0.5336469625690324,\n",
       " 0.5290107043021749,\n",
       " 0.5730551578373217,\n",
       " 0.5365787141201336,\n",
       " 0.5606804390809299,\n",
       " 0.5589077520965432,\n",
       " 0.5132951523829004,\n",
       " 0.5269993863775823,\n",
       " 0.5149996590986567,\n",
       " 0.586793481966319,\n",
       " 0.5764300811345197,\n",
       " 0.5990659303197654,\n",
       " 0.6056112361082702,\n",
       " 0.6235426467580282,\n",
       " 0.6705870321129065,\n",
       " 0.6616554169223426,\n",
       " 0.6693597872775617,\n",
       " 0.6560987250289766,\n",
       " 0.6360878161859957,\n",
       " 0.6069066612122451,\n",
       " 0.63325833503784,\n",
       " 0.6296106906661211,\n",
       " 0.6566782573123339,\n",
       " 0.6573600599986363,\n",
       " 0.641712688347992,\n",
       " 0.6729051612463353,\n",
       " 0.6935978727756188,\n",
       " 0.6774732392445625,\n",
       " 0.6914161041794504,\n",
       " 0.7064157632781073,\n",
       " 0.7168814345128519,\n",
       " 0.7274834662848572,\n",
       " 0.7492670621122247,\n",
       " 0.7659030476580077,\n",
       " 0.7536305993045612,\n",
       " 0.7408127088020725,\n",
       " 0.7472557441876321,\n",
       " 0.7410172496079633,\n",
       " 0.765732596986432,\n",
       " 0.7595281925410785,\n",
       " 0.7802890843389924,\n",
       " 0.7721756323719916,\n",
       " 0.7791300197722778,\n",
       " 0.77176655076021,\n",
       " 0.7764709892956977,\n",
       " 0.7769482511761096,\n",
       " 0.7758914570123406,\n",
       " 0.7892206995295562,\n",
       " 0.7943001295425102,\n",
       " 0.8003681734506033,\n",
       " 0.7908229358423672,\n",
       " 0.8221176791436556,\n",
       " 0.828799345469421,\n",
       " 0.864696256903252,\n",
       " 0.8948660257721414,\n",
       " 0.8371173382423126,\n",
       " 0.8470034771937002,\n",
       " 0.8612872434717392,\n",
       " 0.8922751755641917,\n",
       " 0.8906047589827503,\n",
       " 0.8910820208631621,\n",
       " 0.8842299038658211,\n",
       " 0.9154223767641644,\n",
       " 0.9415354196495532,\n",
       " 0.9194791027476646,\n",
       " 0.9357741869502963,\n",
       " 0.8975591463830367,\n",
       " 0.9253426058498669,\n",
       " 0.935637826413036,\n",
       " 0.9332856071452921,\n",
       " 0.9332856071452921,\n",
       " 0.966489397968228,\n",
       " 0.9625349423876729,\n",
       " 0.992125178973205,\n",
       " 0.9977159610008862,\n",
       " 0.9999999999999999,\n",
       " 0.9939660462262222]"
      ]
     },
     "execution_count": 51,
     "metadata": {},
     "output_type": "execute_result"
    }
   ],
   "source": [
    "temp_input"
   ]
  },
  {
   "cell_type": "code",
   "execution_count": 52,
   "metadata": {},
   "outputs": [
    {
     "name": "stdout",
     "output_type": "stream",
     "text": [
      "[0.9669072]\n",
      "101\n",
      "1 day input [0.75922138 0.70852935 0.67409832 0.68967751 0.62446308 0.62391764\n",
      " 0.71067703 0.67832549 0.72407445 0.69059794 0.67733688 0.59940683\n",
      " 0.66475762 0.6309743  0.53824913 0.63963319 0.51772687 0.55403286\n",
      " 0.53293107 0.52648803 0.47351197 0.45691007 0.53364696 0.5290107\n",
      " 0.57305516 0.53657871 0.56068044 0.55890775 0.51329515 0.52699939\n",
      " 0.51499966 0.58679348 0.57643008 0.59906593 0.60561124 0.62354265\n",
      " 0.67058703 0.66165542 0.66935979 0.65609873 0.63608782 0.60690666\n",
      " 0.63325834 0.62961069 0.65667826 0.65736006 0.64171269 0.67290516\n",
      " 0.69359787 0.67747324 0.6914161  0.70641576 0.71688143 0.72748347\n",
      " 0.74926706 0.76590305 0.7536306  0.74081271 0.74725574 0.74101725\n",
      " 0.7657326  0.75952819 0.78028908 0.77217563 0.77913002 0.77176655\n",
      " 0.77647099 0.77694825 0.77589146 0.7892207  0.79430013 0.80036817\n",
      " 0.79082294 0.82211768 0.82879935 0.86469626 0.89486603 0.83711734\n",
      " 0.84700348 0.86128724 0.89227518 0.89060476 0.89108202 0.8842299\n",
      " 0.91542238 0.94153542 0.9194791  0.93577419 0.89755915 0.92534261\n",
      " 0.93563783 0.93328561 0.93328561 0.9664894  0.96253494 0.99212518\n",
      " 0.99771596 1.         0.99396605 0.9669072 ]\n",
      "1 day output [[0.96382934]]\n",
      "2 day input [0.70852935 0.67409832 0.68967751 0.62446308 0.62391764 0.71067703\n",
      " 0.67832549 0.72407445 0.69059794 0.67733688 0.59940683 0.66475762\n",
      " 0.6309743  0.53824913 0.63963319 0.51772687 0.55403286 0.53293107\n",
      " 0.52648803 0.47351197 0.45691007 0.53364696 0.5290107  0.57305516\n",
      " 0.53657871 0.56068044 0.55890775 0.51329515 0.52699939 0.51499966\n",
      " 0.58679348 0.57643008 0.59906593 0.60561124 0.62354265 0.67058703\n",
      " 0.66165542 0.66935979 0.65609873 0.63608782 0.60690666 0.63325834\n",
      " 0.62961069 0.65667826 0.65736006 0.64171269 0.67290516 0.69359787\n",
      " 0.67747324 0.6914161  0.70641576 0.71688143 0.72748347 0.74926706\n",
      " 0.76590305 0.7536306  0.74081271 0.74725574 0.74101725 0.7657326\n",
      " 0.75952819 0.78028908 0.77217563 0.77913002 0.77176655 0.77647099\n",
      " 0.77694825 0.77589146 0.7892207  0.79430013 0.80036817 0.79082294\n",
      " 0.82211768 0.82879935 0.86469626 0.89486603 0.83711734 0.84700348\n",
      " 0.86128724 0.89227518 0.89060476 0.89108202 0.8842299  0.91542238\n",
      " 0.94153542 0.9194791  0.93577419 0.89755915 0.92534261 0.93563783\n",
      " 0.93328561 0.93328561 0.9664894  0.96253494 0.99212518 0.99771596\n",
      " 1.         0.99396605 0.9669072  0.96382934]\n",
      "2 day output [[0.95535296]]\n",
      "3 day input [0.67409832 0.68967751 0.62446308 0.62391764 0.71067703 0.67832549\n",
      " 0.72407445 0.69059794 0.67733688 0.59940683 0.66475762 0.6309743\n",
      " 0.53824913 0.63963319 0.51772687 0.55403286 0.53293107 0.52648803\n",
      " 0.47351197 0.45691007 0.53364696 0.5290107  0.57305516 0.53657871\n",
      " 0.56068044 0.55890775 0.51329515 0.52699939 0.51499966 0.58679348\n",
      " 0.57643008 0.59906593 0.60561124 0.62354265 0.67058703 0.66165542\n",
      " 0.66935979 0.65609873 0.63608782 0.60690666 0.63325834 0.62961069\n",
      " 0.65667826 0.65736006 0.64171269 0.67290516 0.69359787 0.67747324\n",
      " 0.6914161  0.70641576 0.71688143 0.72748347 0.74926706 0.76590305\n",
      " 0.7536306  0.74081271 0.74725574 0.74101725 0.7657326  0.75952819\n",
      " 0.78028908 0.77217563 0.77913002 0.77176655 0.77647099 0.77694825\n",
      " 0.77589146 0.7892207  0.79430013 0.80036817 0.79082294 0.82211768\n",
      " 0.82879935 0.86469626 0.89486603 0.83711734 0.84700348 0.86128724\n",
      " 0.89227518 0.89060476 0.89108202 0.8842299  0.91542238 0.94153542\n",
      " 0.9194791  0.93577419 0.89755915 0.92534261 0.93563783 0.93328561\n",
      " 0.93328561 0.9664894  0.96253494 0.99212518 0.99771596 1.\n",
      " 0.99396605 0.9669072  0.96382934 0.95535296]\n",
      "3 day output [[0.944735]]\n",
      "4 day input [0.68967751 0.62446308 0.62391764 0.71067703 0.67832549 0.72407445\n",
      " 0.69059794 0.67733688 0.59940683 0.66475762 0.6309743  0.53824913\n",
      " 0.63963319 0.51772687 0.55403286 0.53293107 0.52648803 0.47351197\n",
      " 0.45691007 0.53364696 0.5290107  0.57305516 0.53657871 0.56068044\n",
      " 0.55890775 0.51329515 0.52699939 0.51499966 0.58679348 0.57643008\n",
      " 0.59906593 0.60561124 0.62354265 0.67058703 0.66165542 0.66935979\n",
      " 0.65609873 0.63608782 0.60690666 0.63325834 0.62961069 0.65667826\n",
      " 0.65736006 0.64171269 0.67290516 0.69359787 0.67747324 0.6914161\n",
      " 0.70641576 0.71688143 0.72748347 0.74926706 0.76590305 0.7536306\n",
      " 0.74081271 0.74725574 0.74101725 0.7657326  0.75952819 0.78028908\n",
      " 0.77217563 0.77913002 0.77176655 0.77647099 0.77694825 0.77589146\n",
      " 0.7892207  0.79430013 0.80036817 0.79082294 0.82211768 0.82879935\n",
      " 0.86469626 0.89486603 0.83711734 0.84700348 0.86128724 0.89227518\n",
      " 0.89060476 0.89108202 0.8842299  0.91542238 0.94153542 0.9194791\n",
      " 0.93577419 0.89755915 0.92534261 0.93563783 0.93328561 0.93328561\n",
      " 0.9664894  0.96253494 0.99212518 0.99771596 1.         0.99396605\n",
      " 0.9669072  0.96382934 0.95535296 0.94473499]\n",
      "4 day output [[0.93394333]]\n",
      "5 day input [0.62446308 0.62391764 0.71067703 0.67832549 0.72407445 0.69059794\n",
      " 0.67733688 0.59940683 0.66475762 0.6309743  0.53824913 0.63963319\n",
      " 0.51772687 0.55403286 0.53293107 0.52648803 0.47351197 0.45691007\n",
      " 0.53364696 0.5290107  0.57305516 0.53657871 0.56068044 0.55890775\n",
      " 0.51329515 0.52699939 0.51499966 0.58679348 0.57643008 0.59906593\n",
      " 0.60561124 0.62354265 0.67058703 0.66165542 0.66935979 0.65609873\n",
      " 0.63608782 0.60690666 0.63325834 0.62961069 0.65667826 0.65736006\n",
      " 0.64171269 0.67290516 0.69359787 0.67747324 0.6914161  0.70641576\n",
      " 0.71688143 0.72748347 0.74926706 0.76590305 0.7536306  0.74081271\n",
      " 0.74725574 0.74101725 0.7657326  0.75952819 0.78028908 0.77217563\n",
      " 0.77913002 0.77176655 0.77647099 0.77694825 0.77589146 0.7892207\n",
      " 0.79430013 0.80036817 0.79082294 0.82211768 0.82879935 0.86469626\n",
      " 0.89486603 0.83711734 0.84700348 0.86128724 0.89227518 0.89060476\n",
      " 0.89108202 0.8842299  0.91542238 0.94153542 0.9194791  0.93577419\n",
      " 0.89755915 0.92534261 0.93563783 0.93328561 0.93328561 0.9664894\n",
      " 0.96253494 0.99212518 0.99771596 1.         0.99396605 0.9669072\n",
      " 0.96382934 0.95535296 0.94473499 0.93394333]\n",
      "5 day output [[0.9239907]]\n",
      "6 day input [0.62391764 0.71067703 0.67832549 0.72407445 0.69059794 0.67733688\n",
      " 0.59940683 0.66475762 0.6309743  0.53824913 0.63963319 0.51772687\n",
      " 0.55403286 0.53293107 0.52648803 0.47351197 0.45691007 0.53364696\n",
      " 0.5290107  0.57305516 0.53657871 0.56068044 0.55890775 0.51329515\n",
      " 0.52699939 0.51499966 0.58679348 0.57643008 0.59906593 0.60561124\n",
      " 0.62354265 0.67058703 0.66165542 0.66935979 0.65609873 0.63608782\n",
      " 0.60690666 0.63325834 0.62961069 0.65667826 0.65736006 0.64171269\n",
      " 0.67290516 0.69359787 0.67747324 0.6914161  0.70641576 0.71688143\n",
      " 0.72748347 0.74926706 0.76590305 0.7536306  0.74081271 0.74725574\n",
      " 0.74101725 0.7657326  0.75952819 0.78028908 0.77217563 0.77913002\n",
      " 0.77176655 0.77647099 0.77694825 0.77589146 0.7892207  0.79430013\n",
      " 0.80036817 0.79082294 0.82211768 0.82879935 0.86469626 0.89486603\n",
      " 0.83711734 0.84700348 0.86128724 0.89227518 0.89060476 0.89108202\n",
      " 0.8842299  0.91542238 0.94153542 0.9194791  0.93577419 0.89755915\n",
      " 0.92534261 0.93563783 0.93328561 0.93328561 0.9664894  0.96253494\n",
      " 0.99212518 0.99771596 1.         0.99396605 0.9669072  0.96382934\n",
      " 0.95535296 0.94473499 0.93394333 0.92399073]\n",
      "6 day output [[0.9153518]]\n",
      "7 day input [0.71067703 0.67832549 0.72407445 0.69059794 0.67733688 0.59940683\n",
      " 0.66475762 0.6309743  0.53824913 0.63963319 0.51772687 0.55403286\n",
      " 0.53293107 0.52648803 0.47351197 0.45691007 0.53364696 0.5290107\n",
      " 0.57305516 0.53657871 0.56068044 0.55890775 0.51329515 0.52699939\n",
      " 0.51499966 0.58679348 0.57643008 0.59906593 0.60561124 0.62354265\n",
      " 0.67058703 0.66165542 0.66935979 0.65609873 0.63608782 0.60690666\n",
      " 0.63325834 0.62961069 0.65667826 0.65736006 0.64171269 0.67290516\n",
      " 0.69359787 0.67747324 0.6914161  0.70641576 0.71688143 0.72748347\n",
      " 0.74926706 0.76590305 0.7536306  0.74081271 0.74725574 0.74101725\n",
      " 0.7657326  0.75952819 0.78028908 0.77217563 0.77913002 0.77176655\n",
      " 0.77647099 0.77694825 0.77589146 0.7892207  0.79430013 0.80036817\n",
      " 0.79082294 0.82211768 0.82879935 0.86469626 0.89486603 0.83711734\n",
      " 0.84700348 0.86128724 0.89227518 0.89060476 0.89108202 0.8842299\n",
      " 0.91542238 0.94153542 0.9194791  0.93577419 0.89755915 0.92534261\n",
      " 0.93563783 0.93328561 0.93328561 0.9664894  0.96253494 0.99212518\n",
      " 0.99771596 1.         0.99396605 0.9669072  0.96382934 0.95535296\n",
      " 0.94473499 0.93394333 0.92399073 0.91535181]\n",
      "7 day output [[0.90822124]]\n",
      "8 day input [0.67832549 0.72407445 0.69059794 0.67733688 0.59940683 0.66475762\n",
      " 0.6309743  0.53824913 0.63963319 0.51772687 0.55403286 0.53293107\n",
      " 0.52648803 0.47351197 0.45691007 0.53364696 0.5290107  0.57305516\n",
      " 0.53657871 0.56068044 0.55890775 0.51329515 0.52699939 0.51499966\n",
      " 0.58679348 0.57643008 0.59906593 0.60561124 0.62354265 0.67058703\n",
      " 0.66165542 0.66935979 0.65609873 0.63608782 0.60690666 0.63325834\n",
      " 0.62961069 0.65667826 0.65736006 0.64171269 0.67290516 0.69359787\n",
      " 0.67747324 0.6914161  0.70641576 0.71688143 0.72748347 0.74926706\n",
      " 0.76590305 0.7536306  0.74081271 0.74725574 0.74101725 0.7657326\n",
      " 0.75952819 0.78028908 0.77217563 0.77913002 0.77176655 0.77647099\n",
      " 0.77694825 0.77589146 0.7892207  0.79430013 0.80036817 0.79082294\n",
      " 0.82211768 0.82879935 0.86469626 0.89486603 0.83711734 0.84700348\n",
      " 0.86128724 0.89227518 0.89060476 0.89108202 0.8842299  0.91542238\n",
      " 0.94153542 0.9194791  0.93577419 0.89755915 0.92534261 0.93563783\n",
      " 0.93328561 0.93328561 0.9664894  0.96253494 0.99212518 0.99771596\n",
      " 1.         0.99396605 0.9669072  0.96382934 0.95535296 0.94473499\n",
      " 0.93394333 0.92399073 0.91535181 0.90822124]\n"
     ]
    },
    {
     "name": "stdout",
     "output_type": "stream",
     "text": [
      "8 day output [[0.902636]]\n",
      "9 day input [0.72407445 0.69059794 0.67733688 0.59940683 0.66475762 0.6309743\n",
      " 0.53824913 0.63963319 0.51772687 0.55403286 0.53293107 0.52648803\n",
      " 0.47351197 0.45691007 0.53364696 0.5290107  0.57305516 0.53657871\n",
      " 0.56068044 0.55890775 0.51329515 0.52699939 0.51499966 0.58679348\n",
      " 0.57643008 0.59906593 0.60561124 0.62354265 0.67058703 0.66165542\n",
      " 0.66935979 0.65609873 0.63608782 0.60690666 0.63325834 0.62961069\n",
      " 0.65667826 0.65736006 0.64171269 0.67290516 0.69359787 0.67747324\n",
      " 0.6914161  0.70641576 0.71688143 0.72748347 0.74926706 0.76590305\n",
      " 0.7536306  0.74081271 0.74725574 0.74101725 0.7657326  0.75952819\n",
      " 0.78028908 0.77217563 0.77913002 0.77176655 0.77647099 0.77694825\n",
      " 0.77589146 0.7892207  0.79430013 0.80036817 0.79082294 0.82211768\n",
      " 0.82879935 0.86469626 0.89486603 0.83711734 0.84700348 0.86128724\n",
      " 0.89227518 0.89060476 0.89108202 0.8842299  0.91542238 0.94153542\n",
      " 0.9194791  0.93577419 0.89755915 0.92534261 0.93563783 0.93328561\n",
      " 0.93328561 0.9664894  0.96253494 0.99212518 0.99771596 1.\n",
      " 0.99396605 0.9669072  0.96382934 0.95535296 0.94473499 0.93394333\n",
      " 0.92399073 0.91535181 0.90822124 0.90263599]\n",
      "9 day output [[0.8985316]]\n",
      "10 day input [0.69059794 0.67733688 0.59940683 0.66475762 0.6309743  0.53824913\n",
      " 0.63963319 0.51772687 0.55403286 0.53293107 0.52648803 0.47351197\n",
      " 0.45691007 0.53364696 0.5290107  0.57305516 0.53657871 0.56068044\n",
      " 0.55890775 0.51329515 0.52699939 0.51499966 0.58679348 0.57643008\n",
      " 0.59906593 0.60561124 0.62354265 0.67058703 0.66165542 0.66935979\n",
      " 0.65609873 0.63608782 0.60690666 0.63325834 0.62961069 0.65667826\n",
      " 0.65736006 0.64171269 0.67290516 0.69359787 0.67747324 0.6914161\n",
      " 0.70641576 0.71688143 0.72748347 0.74926706 0.76590305 0.7536306\n",
      " 0.74081271 0.74725574 0.74101725 0.7657326  0.75952819 0.78028908\n",
      " 0.77217563 0.77913002 0.77176655 0.77647099 0.77694825 0.77589146\n",
      " 0.7892207  0.79430013 0.80036817 0.79082294 0.82211768 0.82879935\n",
      " 0.86469626 0.89486603 0.83711734 0.84700348 0.86128724 0.89227518\n",
      " 0.89060476 0.89108202 0.8842299  0.91542238 0.94153542 0.9194791\n",
      " 0.93577419 0.89755915 0.92534261 0.93563783 0.93328561 0.93328561\n",
      " 0.9664894  0.96253494 0.99212518 0.99771596 1.         0.99396605\n",
      " 0.9669072  0.96382934 0.95535296 0.94473499 0.93394333 0.92399073\n",
      " 0.91535181 0.90822124 0.90263599 0.89853162]\n",
      "10 day output [[0.8957675]]\n",
      "11 day input [0.67733688 0.59940683 0.66475762 0.6309743  0.53824913 0.63963319\n",
      " 0.51772687 0.55403286 0.53293107 0.52648803 0.47351197 0.45691007\n",
      " 0.53364696 0.5290107  0.57305516 0.53657871 0.56068044 0.55890775\n",
      " 0.51329515 0.52699939 0.51499966 0.58679348 0.57643008 0.59906593\n",
      " 0.60561124 0.62354265 0.67058703 0.66165542 0.66935979 0.65609873\n",
      " 0.63608782 0.60690666 0.63325834 0.62961069 0.65667826 0.65736006\n",
      " 0.64171269 0.67290516 0.69359787 0.67747324 0.6914161  0.70641576\n",
      " 0.71688143 0.72748347 0.74926706 0.76590305 0.7536306  0.74081271\n",
      " 0.74725574 0.74101725 0.7657326  0.75952819 0.78028908 0.77217563\n",
      " 0.77913002 0.77176655 0.77647099 0.77694825 0.77589146 0.7892207\n",
      " 0.79430013 0.80036817 0.79082294 0.82211768 0.82879935 0.86469626\n",
      " 0.89486603 0.83711734 0.84700348 0.86128724 0.89227518 0.89060476\n",
      " 0.89108202 0.8842299  0.91542238 0.94153542 0.9194791  0.93577419\n",
      " 0.89755915 0.92534261 0.93563783 0.93328561 0.93328561 0.9664894\n",
      " 0.96253494 0.99212518 0.99771596 1.         0.99396605 0.9669072\n",
      " 0.96382934 0.95535296 0.94473499 0.93394333 0.92399073 0.91535181\n",
      " 0.90822124 0.90263599 0.89853162 0.89576751]\n",
      "11 day output [[0.89415145]]\n",
      "12 day input [0.59940683 0.66475762 0.6309743  0.53824913 0.63963319 0.51772687\n",
      " 0.55403286 0.53293107 0.52648803 0.47351197 0.45691007 0.53364696\n",
      " 0.5290107  0.57305516 0.53657871 0.56068044 0.55890775 0.51329515\n",
      " 0.52699939 0.51499966 0.58679348 0.57643008 0.59906593 0.60561124\n",
      " 0.62354265 0.67058703 0.66165542 0.66935979 0.65609873 0.63608782\n",
      " 0.60690666 0.63325834 0.62961069 0.65667826 0.65736006 0.64171269\n",
      " 0.67290516 0.69359787 0.67747324 0.6914161  0.70641576 0.71688143\n",
      " 0.72748347 0.74926706 0.76590305 0.7536306  0.74081271 0.74725574\n",
      " 0.74101725 0.7657326  0.75952819 0.78028908 0.77217563 0.77913002\n",
      " 0.77176655 0.77647099 0.77694825 0.77589146 0.7892207  0.79430013\n",
      " 0.80036817 0.79082294 0.82211768 0.82879935 0.86469626 0.89486603\n",
      " 0.83711734 0.84700348 0.86128724 0.89227518 0.89060476 0.89108202\n",
      " 0.8842299  0.91542238 0.94153542 0.9194791  0.93577419 0.89755915\n",
      " 0.92534261 0.93563783 0.93328561 0.93328561 0.9664894  0.96253494\n",
      " 0.99212518 0.99771596 1.         0.99396605 0.9669072  0.96382934\n",
      " 0.95535296 0.94473499 0.93394333 0.92399073 0.91535181 0.90822124\n",
      " 0.90263599 0.89853162 0.89576751 0.89415145]\n",
      "12 day output [[0.8934592]]\n",
      "13 day input [0.66475762 0.6309743  0.53824913 0.63963319 0.51772687 0.55403286\n",
      " 0.53293107 0.52648803 0.47351197 0.45691007 0.53364696 0.5290107\n",
      " 0.57305516 0.53657871 0.56068044 0.55890775 0.51329515 0.52699939\n",
      " 0.51499966 0.58679348 0.57643008 0.59906593 0.60561124 0.62354265\n",
      " 0.67058703 0.66165542 0.66935979 0.65609873 0.63608782 0.60690666\n",
      " 0.63325834 0.62961069 0.65667826 0.65736006 0.64171269 0.67290516\n",
      " 0.69359787 0.67747324 0.6914161  0.70641576 0.71688143 0.72748347\n",
      " 0.74926706 0.76590305 0.7536306  0.74081271 0.74725574 0.74101725\n",
      " 0.7657326  0.75952819 0.78028908 0.77217563 0.77913002 0.77176655\n",
      " 0.77647099 0.77694825 0.77589146 0.7892207  0.79430013 0.80036817\n",
      " 0.79082294 0.82211768 0.82879935 0.86469626 0.89486603 0.83711734\n",
      " 0.84700348 0.86128724 0.89227518 0.89060476 0.89108202 0.8842299\n",
      " 0.91542238 0.94153542 0.9194791  0.93577419 0.89755915 0.92534261\n",
      " 0.93563783 0.93328561 0.93328561 0.9664894  0.96253494 0.99212518\n",
      " 0.99771596 1.         0.99396605 0.9669072  0.96382934 0.95535296\n",
      " 0.94473499 0.93394333 0.92399073 0.91535181 0.90822124 0.90263599\n",
      " 0.89853162 0.89576751 0.89415145 0.8934592 ]\n",
      "13 day output [[0.8934545]]\n",
      "14 day input [0.6309743  0.53824913 0.63963319 0.51772687 0.55403286 0.53293107\n",
      " 0.52648803 0.47351197 0.45691007 0.53364696 0.5290107  0.57305516\n",
      " 0.53657871 0.56068044 0.55890775 0.51329515 0.52699939 0.51499966\n",
      " 0.58679348 0.57643008 0.59906593 0.60561124 0.62354265 0.67058703\n",
      " 0.66165542 0.66935979 0.65609873 0.63608782 0.60690666 0.63325834\n",
      " 0.62961069 0.65667826 0.65736006 0.64171269 0.67290516 0.69359787\n",
      " 0.67747324 0.6914161  0.70641576 0.71688143 0.72748347 0.74926706\n",
      " 0.76590305 0.7536306  0.74081271 0.74725574 0.74101725 0.7657326\n",
      " 0.75952819 0.78028908 0.77217563 0.77913002 0.77176655 0.77647099\n",
      " 0.77694825 0.77589146 0.7892207  0.79430013 0.80036817 0.79082294\n",
      " 0.82211768 0.82879935 0.86469626 0.89486603 0.83711734 0.84700348\n",
      " 0.86128724 0.89227518 0.89060476 0.89108202 0.8842299  0.91542238\n",
      " 0.94153542 0.9194791  0.93577419 0.89755915 0.92534261 0.93563783\n",
      " 0.93328561 0.93328561 0.9664894  0.96253494 0.99212518 0.99771596\n",
      " 1.         0.99396605 0.9669072  0.96382934 0.95535296 0.94473499\n",
      " 0.93394333 0.92399073 0.91535181 0.90822124 0.90263599 0.89853162\n",
      " 0.89576751 0.89415145 0.8934592  0.89345449]\n",
      "14 day output [[0.89390665]]\n",
      "15 day input [0.53824913 0.63963319 0.51772687 0.55403286 0.53293107 0.52648803\n",
      " 0.47351197 0.45691007 0.53364696 0.5290107  0.57305516 0.53657871\n",
      " 0.56068044 0.55890775 0.51329515 0.52699939 0.51499966 0.58679348\n",
      " 0.57643008 0.59906593 0.60561124 0.62354265 0.67058703 0.66165542\n",
      " 0.66935979 0.65609873 0.63608782 0.60690666 0.63325834 0.62961069\n",
      " 0.65667826 0.65736006 0.64171269 0.67290516 0.69359787 0.67747324\n",
      " 0.6914161  0.70641576 0.71688143 0.72748347 0.74926706 0.76590305\n",
      " 0.7536306  0.74081271 0.74725574 0.74101725 0.7657326  0.75952819\n",
      " 0.78028908 0.77217563 0.77913002 0.77176655 0.77647099 0.77694825\n",
      " 0.77589146 0.7892207  0.79430013 0.80036817 0.79082294 0.82211768\n",
      " 0.82879935 0.86469626 0.89486603 0.83711734 0.84700348 0.86128724\n",
      " 0.89227518 0.89060476 0.89108202 0.8842299  0.91542238 0.94153542\n",
      " 0.9194791  0.93577419 0.89755915 0.92534261 0.93563783 0.93328561\n",
      " 0.93328561 0.9664894  0.96253494 0.99212518 0.99771596 1.\n",
      " 0.99396605 0.9669072  0.96382934 0.95535296 0.94473499 0.93394333\n",
      " 0.92399073 0.91535181 0.90822124 0.90263599 0.89853162 0.89576751\n",
      " 0.89415145 0.8934592  0.89345449 0.89390665]\n",
      "15 day output [[0.8946039]]\n",
      "16 day input [0.63963319 0.51772687 0.55403286 0.53293107 0.52648803 0.47351197\n",
      " 0.45691007 0.53364696 0.5290107  0.57305516 0.53657871 0.56068044\n",
      " 0.55890775 0.51329515 0.52699939 0.51499966 0.58679348 0.57643008\n",
      " 0.59906593 0.60561124 0.62354265 0.67058703 0.66165542 0.66935979\n",
      " 0.65609873 0.63608782 0.60690666 0.63325834 0.62961069 0.65667826\n",
      " 0.65736006 0.64171269 0.67290516 0.69359787 0.67747324 0.6914161\n",
      " 0.70641576 0.71688143 0.72748347 0.74926706 0.76590305 0.7536306\n",
      " 0.74081271 0.74725574 0.74101725 0.7657326  0.75952819 0.78028908\n",
      " 0.77217563 0.77913002 0.77176655 0.77647099 0.77694825 0.77589146\n",
      " 0.7892207  0.79430013 0.80036817 0.79082294 0.82211768 0.82879935\n",
      " 0.86469626 0.89486603 0.83711734 0.84700348 0.86128724 0.89227518\n",
      " 0.89060476 0.89108202 0.8842299  0.91542238 0.94153542 0.9194791\n",
      " 0.93577419 0.89755915 0.92534261 0.93563783 0.93328561 0.93328561\n",
      " 0.9664894  0.96253494 0.99212518 0.99771596 1.         0.99396605\n",
      " 0.9669072  0.96382934 0.95535296 0.94473499 0.93394333 0.92399073\n",
      " 0.91535181 0.90822124 0.90263599 0.89853162 0.89576751 0.89415145\n",
      " 0.8934592  0.89345449 0.89390665 0.89460391]\n",
      "16 day output [[0.8953634]]\n",
      "17 day input [0.51772687 0.55403286 0.53293107 0.52648803 0.47351197 0.45691007\n",
      " 0.53364696 0.5290107  0.57305516 0.53657871 0.56068044 0.55890775\n",
      " 0.51329515 0.52699939 0.51499966 0.58679348 0.57643008 0.59906593\n",
      " 0.60561124 0.62354265 0.67058703 0.66165542 0.66935979 0.65609873\n",
      " 0.63608782 0.60690666 0.63325834 0.62961069 0.65667826 0.65736006\n",
      " 0.64171269 0.67290516 0.69359787 0.67747324 0.6914161  0.70641576\n",
      " 0.71688143 0.72748347 0.74926706 0.76590305 0.7536306  0.74081271\n",
      " 0.74725574 0.74101725 0.7657326  0.75952819 0.78028908 0.77217563\n",
      " 0.77913002 0.77176655 0.77647099 0.77694825 0.77589146 0.7892207\n",
      " 0.79430013 0.80036817 0.79082294 0.82211768 0.82879935 0.86469626\n",
      " 0.89486603 0.83711734 0.84700348 0.86128724 0.89227518 0.89060476\n",
      " 0.89108202 0.8842299  0.91542238 0.94153542 0.9194791  0.93577419\n",
      " 0.89755915 0.92534261 0.93563783 0.93328561 0.93328561 0.9664894\n",
      " 0.96253494 0.99212518 0.99771596 1.         0.99396605 0.9669072\n",
      " 0.96382934 0.95535296 0.94473499 0.93394333 0.92399073 0.91535181\n",
      " 0.90822124 0.90263599 0.89853162 0.89576751 0.89415145 0.8934592\n",
      " 0.89345449 0.89390665 0.89460391 0.89536339]\n",
      "17 day output [[0.8960386]]\n",
      "18 day input [0.55403286 0.53293107 0.52648803 0.47351197 0.45691007 0.53364696\n",
      " 0.5290107  0.57305516 0.53657871 0.56068044 0.55890775 0.51329515\n",
      " 0.52699939 0.51499966 0.58679348 0.57643008 0.59906593 0.60561124\n",
      " 0.62354265 0.67058703 0.66165542 0.66935979 0.65609873 0.63608782\n",
      " 0.60690666 0.63325834 0.62961069 0.65667826 0.65736006 0.64171269\n",
      " 0.67290516 0.69359787 0.67747324 0.6914161  0.70641576 0.71688143\n",
      " 0.72748347 0.74926706 0.76590305 0.7536306  0.74081271 0.74725574\n",
      " 0.74101725 0.7657326  0.75952819 0.78028908 0.77217563 0.77913002\n",
      " 0.77176655 0.77647099 0.77694825 0.77589146 0.7892207  0.79430013\n",
      " 0.80036817 0.79082294 0.82211768 0.82879935 0.86469626 0.89486603\n",
      " 0.83711734 0.84700348 0.86128724 0.89227518 0.89060476 0.89108202\n",
      " 0.8842299  0.91542238 0.94153542 0.9194791  0.93577419 0.89755915\n",
      " 0.92534261 0.93563783 0.93328561 0.93328561 0.9664894  0.96253494\n",
      " 0.99212518 0.99771596 1.         0.99396605 0.9669072  0.96382934\n",
      " 0.95535296 0.94473499 0.93394333 0.92399073 0.91535181 0.90822124\n",
      " 0.90263599 0.89853162 0.89576751 0.89415145 0.8934592  0.89345449\n",
      " 0.89390665 0.89460391 0.89536339 0.89603859]\n"
     ]
    },
    {
     "name": "stdout",
     "output_type": "stream",
     "text": [
      "18 day output [[0.89652014]]\n",
      "19 day input [0.53293107 0.52648803 0.47351197 0.45691007 0.53364696 0.5290107\n",
      " 0.57305516 0.53657871 0.56068044 0.55890775 0.51329515 0.52699939\n",
      " 0.51499966 0.58679348 0.57643008 0.59906593 0.60561124 0.62354265\n",
      " 0.67058703 0.66165542 0.66935979 0.65609873 0.63608782 0.60690666\n",
      " 0.63325834 0.62961069 0.65667826 0.65736006 0.64171269 0.67290516\n",
      " 0.69359787 0.67747324 0.6914161  0.70641576 0.71688143 0.72748347\n",
      " 0.74926706 0.76590305 0.7536306  0.74081271 0.74725574 0.74101725\n",
      " 0.7657326  0.75952819 0.78028908 0.77217563 0.77913002 0.77176655\n",
      " 0.77647099 0.77694825 0.77589146 0.7892207  0.79430013 0.80036817\n",
      " 0.79082294 0.82211768 0.82879935 0.86469626 0.89486603 0.83711734\n",
      " 0.84700348 0.86128724 0.89227518 0.89060476 0.89108202 0.8842299\n",
      " 0.91542238 0.94153542 0.9194791  0.93577419 0.89755915 0.92534261\n",
      " 0.93563783 0.93328561 0.93328561 0.9664894  0.96253494 0.99212518\n",
      " 0.99771596 1.         0.99396605 0.9669072  0.96382934 0.95535296\n",
      " 0.94473499 0.93394333 0.92399073 0.91535181 0.90822124 0.90263599\n",
      " 0.89853162 0.89576751 0.89415145 0.8934592  0.89345449 0.89390665\n",
      " 0.89460391 0.89536339 0.89603859 0.89652014]\n",
      "19 day output [[0.8967373]]\n",
      "20 day input [0.52648803 0.47351197 0.45691007 0.53364696 0.5290107  0.57305516\n",
      " 0.53657871 0.56068044 0.55890775 0.51329515 0.52699939 0.51499966\n",
      " 0.58679348 0.57643008 0.59906593 0.60561124 0.62354265 0.67058703\n",
      " 0.66165542 0.66935979 0.65609873 0.63608782 0.60690666 0.63325834\n",
      " 0.62961069 0.65667826 0.65736006 0.64171269 0.67290516 0.69359787\n",
      " 0.67747324 0.6914161  0.70641576 0.71688143 0.72748347 0.74926706\n",
      " 0.76590305 0.7536306  0.74081271 0.74725574 0.74101725 0.7657326\n",
      " 0.75952819 0.78028908 0.77217563 0.77913002 0.77176655 0.77647099\n",
      " 0.77694825 0.77589146 0.7892207  0.79430013 0.80036817 0.79082294\n",
      " 0.82211768 0.82879935 0.86469626 0.89486603 0.83711734 0.84700348\n",
      " 0.86128724 0.89227518 0.89060476 0.89108202 0.8842299  0.91542238\n",
      " 0.94153542 0.9194791  0.93577419 0.89755915 0.92534261 0.93563783\n",
      " 0.93328561 0.93328561 0.9664894  0.96253494 0.99212518 0.99771596\n",
      " 1.         0.99396605 0.9669072  0.96382934 0.95535296 0.94473499\n",
      " 0.93394333 0.92399073 0.91535181 0.90822124 0.90263599 0.89853162\n",
      " 0.89576751 0.89415145 0.8934592  0.89345449 0.89390665 0.89460391\n",
      " 0.89536339 0.89603859 0.89652014 0.89673728]\n",
      "20 day output [[0.8966532]]\n",
      "21 day input [0.47351197 0.45691007 0.53364696 0.5290107  0.57305516 0.53657871\n",
      " 0.56068044 0.55890775 0.51329515 0.52699939 0.51499966 0.58679348\n",
      " 0.57643008 0.59906593 0.60561124 0.62354265 0.67058703 0.66165542\n",
      " 0.66935979 0.65609873 0.63608782 0.60690666 0.63325834 0.62961069\n",
      " 0.65667826 0.65736006 0.64171269 0.67290516 0.69359787 0.67747324\n",
      " 0.6914161  0.70641576 0.71688143 0.72748347 0.74926706 0.76590305\n",
      " 0.7536306  0.74081271 0.74725574 0.74101725 0.7657326  0.75952819\n",
      " 0.78028908 0.77217563 0.77913002 0.77176655 0.77647099 0.77694825\n",
      " 0.77589146 0.7892207  0.79430013 0.80036817 0.79082294 0.82211768\n",
      " 0.82879935 0.86469626 0.89486603 0.83711734 0.84700348 0.86128724\n",
      " 0.89227518 0.89060476 0.89108202 0.8842299  0.91542238 0.94153542\n",
      " 0.9194791  0.93577419 0.89755915 0.92534261 0.93563783 0.93328561\n",
      " 0.93328561 0.9664894  0.96253494 0.99212518 0.99771596 1.\n",
      " 0.99396605 0.9669072  0.96382934 0.95535296 0.94473499 0.93394333\n",
      " 0.92399073 0.91535181 0.90822124 0.90263599 0.89853162 0.89576751\n",
      " 0.89415145 0.8934592  0.89345449 0.89390665 0.89460391 0.89536339\n",
      " 0.89603859 0.89652014 0.89673728 0.89665318]\n",
      "21 day output [[0.89626205]]\n",
      "22 day input [0.45691007 0.53364696 0.5290107  0.57305516 0.53657871 0.56068044\n",
      " 0.55890775 0.51329515 0.52699939 0.51499966 0.58679348 0.57643008\n",
      " 0.59906593 0.60561124 0.62354265 0.67058703 0.66165542 0.66935979\n",
      " 0.65609873 0.63608782 0.60690666 0.63325834 0.62961069 0.65667826\n",
      " 0.65736006 0.64171269 0.67290516 0.69359787 0.67747324 0.6914161\n",
      " 0.70641576 0.71688143 0.72748347 0.74926706 0.76590305 0.7536306\n",
      " 0.74081271 0.74725574 0.74101725 0.7657326  0.75952819 0.78028908\n",
      " 0.77217563 0.77913002 0.77176655 0.77647099 0.77694825 0.77589146\n",
      " 0.7892207  0.79430013 0.80036817 0.79082294 0.82211768 0.82879935\n",
      " 0.86469626 0.89486603 0.83711734 0.84700348 0.86128724 0.89227518\n",
      " 0.89060476 0.89108202 0.8842299  0.91542238 0.94153542 0.9194791\n",
      " 0.93577419 0.89755915 0.92534261 0.93563783 0.93328561 0.93328561\n",
      " 0.9664894  0.96253494 0.99212518 0.99771596 1.         0.99396605\n",
      " 0.9669072  0.96382934 0.95535296 0.94473499 0.93394333 0.92399073\n",
      " 0.91535181 0.90822124 0.90263599 0.89853162 0.89576751 0.89415145\n",
      " 0.8934592  0.89345449 0.89390665 0.89460391 0.89536339 0.89603859\n",
      " 0.89652014 0.89673728 0.89665318 0.89626205]\n",
      "22 day output [[0.8955815]]\n",
      "23 day input [0.53364696 0.5290107  0.57305516 0.53657871 0.56068044 0.55890775\n",
      " 0.51329515 0.52699939 0.51499966 0.58679348 0.57643008 0.59906593\n",
      " 0.60561124 0.62354265 0.67058703 0.66165542 0.66935979 0.65609873\n",
      " 0.63608782 0.60690666 0.63325834 0.62961069 0.65667826 0.65736006\n",
      " 0.64171269 0.67290516 0.69359787 0.67747324 0.6914161  0.70641576\n",
      " 0.71688143 0.72748347 0.74926706 0.76590305 0.7536306  0.74081271\n",
      " 0.74725574 0.74101725 0.7657326  0.75952819 0.78028908 0.77217563\n",
      " 0.77913002 0.77176655 0.77647099 0.77694825 0.77589146 0.7892207\n",
      " 0.79430013 0.80036817 0.79082294 0.82211768 0.82879935 0.86469626\n",
      " 0.89486603 0.83711734 0.84700348 0.86128724 0.89227518 0.89060476\n",
      " 0.89108202 0.8842299  0.91542238 0.94153542 0.9194791  0.93577419\n",
      " 0.89755915 0.92534261 0.93563783 0.93328561 0.93328561 0.9664894\n",
      " 0.96253494 0.99212518 0.99771596 1.         0.99396605 0.9669072\n",
      " 0.96382934 0.95535296 0.94473499 0.93394333 0.92399073 0.91535181\n",
      " 0.90822124 0.90263599 0.89853162 0.89576751 0.89415145 0.8934592\n",
      " 0.89345449 0.89390665 0.89460391 0.89536339 0.89603859 0.89652014\n",
      " 0.89673728 0.89665318 0.89626205 0.89558148]\n",
      "23 day output [[0.8946472]]\n",
      "24 day input [0.5290107  0.57305516 0.53657871 0.56068044 0.55890775 0.51329515\n",
      " 0.52699939 0.51499966 0.58679348 0.57643008 0.59906593 0.60561124\n",
      " 0.62354265 0.67058703 0.66165542 0.66935979 0.65609873 0.63608782\n",
      " 0.60690666 0.63325834 0.62961069 0.65667826 0.65736006 0.64171269\n",
      " 0.67290516 0.69359787 0.67747324 0.6914161  0.70641576 0.71688143\n",
      " 0.72748347 0.74926706 0.76590305 0.7536306  0.74081271 0.74725574\n",
      " 0.74101725 0.7657326  0.75952819 0.78028908 0.77217563 0.77913002\n",
      " 0.77176655 0.77647099 0.77694825 0.77589146 0.7892207  0.79430013\n",
      " 0.80036817 0.79082294 0.82211768 0.82879935 0.86469626 0.89486603\n",
      " 0.83711734 0.84700348 0.86128724 0.89227518 0.89060476 0.89108202\n",
      " 0.8842299  0.91542238 0.94153542 0.9194791  0.93577419 0.89755915\n",
      " 0.92534261 0.93563783 0.93328561 0.93328561 0.9664894  0.96253494\n",
      " 0.99212518 0.99771596 1.         0.99396605 0.9669072  0.96382934\n",
      " 0.95535296 0.94473499 0.93394333 0.92399073 0.91535181 0.90822124\n",
      " 0.90263599 0.89853162 0.89576751 0.89415145 0.8934592  0.89345449\n",
      " 0.89390665 0.89460391 0.89536339 0.89603859 0.89652014 0.89673728\n",
      " 0.89665318 0.89626205 0.89558148 0.89464718]\n",
      "24 day output [[0.89350635]]\n",
      "25 day input [0.57305516 0.53657871 0.56068044 0.55890775 0.51329515 0.52699939\n",
      " 0.51499966 0.58679348 0.57643008 0.59906593 0.60561124 0.62354265\n",
      " 0.67058703 0.66165542 0.66935979 0.65609873 0.63608782 0.60690666\n",
      " 0.63325834 0.62961069 0.65667826 0.65736006 0.64171269 0.67290516\n",
      " 0.69359787 0.67747324 0.6914161  0.70641576 0.71688143 0.72748347\n",
      " 0.74926706 0.76590305 0.7536306  0.74081271 0.74725574 0.74101725\n",
      " 0.7657326  0.75952819 0.78028908 0.77217563 0.77913002 0.77176655\n",
      " 0.77647099 0.77694825 0.77589146 0.7892207  0.79430013 0.80036817\n",
      " 0.79082294 0.82211768 0.82879935 0.86469626 0.89486603 0.83711734\n",
      " 0.84700348 0.86128724 0.89227518 0.89060476 0.89108202 0.8842299\n",
      " 0.91542238 0.94153542 0.9194791  0.93577419 0.89755915 0.92534261\n",
      " 0.93563783 0.93328561 0.93328561 0.9664894  0.96253494 0.99212518\n",
      " 0.99771596 1.         0.99396605 0.9669072  0.96382934 0.95535296\n",
      " 0.94473499 0.93394333 0.92399073 0.91535181 0.90822124 0.90263599\n",
      " 0.89853162 0.89576751 0.89415145 0.8934592  0.89345449 0.89390665\n",
      " 0.89460391 0.89536339 0.89603859 0.89652014 0.89673728 0.89665318\n",
      " 0.89626205 0.89558148 0.89464718 0.89350635]\n",
      "25 day output [[0.89221174]]\n",
      "26 day input [0.53657871 0.56068044 0.55890775 0.51329515 0.52699939 0.51499966\n",
      " 0.58679348 0.57643008 0.59906593 0.60561124 0.62354265 0.67058703\n",
      " 0.66165542 0.66935979 0.65609873 0.63608782 0.60690666 0.63325834\n",
      " 0.62961069 0.65667826 0.65736006 0.64171269 0.67290516 0.69359787\n",
      " 0.67747324 0.6914161  0.70641576 0.71688143 0.72748347 0.74926706\n",
      " 0.76590305 0.7536306  0.74081271 0.74725574 0.74101725 0.7657326\n",
      " 0.75952819 0.78028908 0.77217563 0.77913002 0.77176655 0.77647099\n",
      " 0.77694825 0.77589146 0.7892207  0.79430013 0.80036817 0.79082294\n",
      " 0.82211768 0.82879935 0.86469626 0.89486603 0.83711734 0.84700348\n",
      " 0.86128724 0.89227518 0.89060476 0.89108202 0.8842299  0.91542238\n",
      " 0.94153542 0.9194791  0.93577419 0.89755915 0.92534261 0.93563783\n",
      " 0.93328561 0.93328561 0.9664894  0.96253494 0.99212518 0.99771596\n",
      " 1.         0.99396605 0.9669072  0.96382934 0.95535296 0.94473499\n",
      " 0.93394333 0.92399073 0.91535181 0.90822124 0.90263599 0.89853162\n",
      " 0.89576751 0.89415145 0.8934592  0.89345449 0.89390665 0.89460391\n",
      " 0.89536339 0.89603859 0.89652014 0.89673728 0.89665318 0.89626205\n",
      " 0.89558148 0.89464718 0.89350635 0.89221174]\n"
     ]
    },
    {
     "name": "stdout",
     "output_type": "stream",
     "text": [
      "26 day output [[0.89081687]]\n",
      "27 day input [0.56068044 0.55890775 0.51329515 0.52699939 0.51499966 0.58679348\n",
      " 0.57643008 0.59906593 0.60561124 0.62354265 0.67058703 0.66165542\n",
      " 0.66935979 0.65609873 0.63608782 0.60690666 0.63325834 0.62961069\n",
      " 0.65667826 0.65736006 0.64171269 0.67290516 0.69359787 0.67747324\n",
      " 0.6914161  0.70641576 0.71688143 0.72748347 0.74926706 0.76590305\n",
      " 0.7536306  0.74081271 0.74725574 0.74101725 0.7657326  0.75952819\n",
      " 0.78028908 0.77217563 0.77913002 0.77176655 0.77647099 0.77694825\n",
      " 0.77589146 0.7892207  0.79430013 0.80036817 0.79082294 0.82211768\n",
      " 0.82879935 0.86469626 0.89486603 0.83711734 0.84700348 0.86128724\n",
      " 0.89227518 0.89060476 0.89108202 0.8842299  0.91542238 0.94153542\n",
      " 0.9194791  0.93577419 0.89755915 0.92534261 0.93563783 0.93328561\n",
      " 0.93328561 0.9664894  0.96253494 0.99212518 0.99771596 1.\n",
      " 0.99396605 0.9669072  0.96382934 0.95535296 0.94473499 0.93394333\n",
      " 0.92399073 0.91535181 0.90822124 0.90263599 0.89853162 0.89576751\n",
      " 0.89415145 0.8934592  0.89345449 0.89390665 0.89460391 0.89536339\n",
      " 0.89603859 0.89652014 0.89673728 0.89665318 0.89626205 0.89558148\n",
      " 0.89464718 0.89350635 0.89221174 0.89081687]\n",
      "27 day output [[0.88937163]]\n",
      "28 day input [0.55890775 0.51329515 0.52699939 0.51499966 0.58679348 0.57643008\n",
      " 0.59906593 0.60561124 0.62354265 0.67058703 0.66165542 0.66935979\n",
      " 0.65609873 0.63608782 0.60690666 0.63325834 0.62961069 0.65667826\n",
      " 0.65736006 0.64171269 0.67290516 0.69359787 0.67747324 0.6914161\n",
      " 0.70641576 0.71688143 0.72748347 0.74926706 0.76590305 0.7536306\n",
      " 0.74081271 0.74725574 0.74101725 0.7657326  0.75952819 0.78028908\n",
      " 0.77217563 0.77913002 0.77176655 0.77647099 0.77694825 0.77589146\n",
      " 0.7892207  0.79430013 0.80036817 0.79082294 0.82211768 0.82879935\n",
      " 0.86469626 0.89486603 0.83711734 0.84700348 0.86128724 0.89227518\n",
      " 0.89060476 0.89108202 0.8842299  0.91542238 0.94153542 0.9194791\n",
      " 0.93577419 0.89755915 0.92534261 0.93563783 0.93328561 0.93328561\n",
      " 0.9664894  0.96253494 0.99212518 0.99771596 1.         0.99396605\n",
      " 0.9669072  0.96382934 0.95535296 0.94473499 0.93394333 0.92399073\n",
      " 0.91535181 0.90822124 0.90263599 0.89853162 0.89576751 0.89415145\n",
      " 0.8934592  0.89345449 0.89390665 0.89460391 0.89536339 0.89603859\n",
      " 0.89652014 0.89673728 0.89665318 0.89626205 0.89558148 0.89464718\n",
      " 0.89350635 0.89221174 0.89081687 0.88937163]\n",
      "28 day output [[0.8879197]]\n",
      "29 day input [0.51329515 0.52699939 0.51499966 0.58679348 0.57643008 0.59906593\n",
      " 0.60561124 0.62354265 0.67058703 0.66165542 0.66935979 0.65609873\n",
      " 0.63608782 0.60690666 0.63325834 0.62961069 0.65667826 0.65736006\n",
      " 0.64171269 0.67290516 0.69359787 0.67747324 0.6914161  0.70641576\n",
      " 0.71688143 0.72748347 0.74926706 0.76590305 0.7536306  0.74081271\n",
      " 0.74725574 0.74101725 0.7657326  0.75952819 0.78028908 0.77217563\n",
      " 0.77913002 0.77176655 0.77647099 0.77694825 0.77589146 0.7892207\n",
      " 0.79430013 0.80036817 0.79082294 0.82211768 0.82879935 0.86469626\n",
      " 0.89486603 0.83711734 0.84700348 0.86128724 0.89227518 0.89060476\n",
      " 0.89108202 0.8842299  0.91542238 0.94153542 0.9194791  0.93577419\n",
      " 0.89755915 0.92534261 0.93563783 0.93328561 0.93328561 0.9664894\n",
      " 0.96253494 0.99212518 0.99771596 1.         0.99396605 0.9669072\n",
      " 0.96382934 0.95535296 0.94473499 0.93394333 0.92399073 0.91535181\n",
      " 0.90822124 0.90263599 0.89853162 0.89576751 0.89415145 0.8934592\n",
      " 0.89345449 0.89390665 0.89460391 0.89536339 0.89603859 0.89652014\n",
      " 0.89673728 0.89665318 0.89626205 0.89558148 0.89464718 0.89350635\n",
      " 0.89221174 0.89081687 0.88937163 0.88791972]\n",
      "29 day output [[0.8864974]]\n",
      "[[0.9669072031974792], [0.9638293385505676], [0.9553529620170593], [0.9447349905967712], [0.9339433312416077], [0.9239907264709473], [0.9153518080711365], [0.9082212448120117], [0.9026359915733337], [0.8985316157341003], [0.8957675099372864], [0.8941514492034912], [0.8934592008590698], [0.8934544920921326], [0.8939066529273987], [0.8946039080619812], [0.8953633904457092], [0.8960385918617249], [0.8965201377868652], [0.896737277507782], [0.8966531753540039], [0.8962620496749878], [0.8955814838409424], [0.8946471810340881], [0.8935063481330872], [0.8922117352485657], [0.890816867351532], [0.8893716335296631], [0.8879197239875793], [0.8864973783493042]]\n"
     ]
    }
   ],
   "source": [
    "from numpy import array\n",
    "\n",
    "lst_output=[]\n",
    "n_steps=100\n",
    "i=0\n",
    "while(i<30):\n",
    "    \n",
    "    if(len(temp_input)>100):\n",
    "        #print(temp_input)\n",
    "        x_input=np.array(temp_input[1:])\n",
    "        print(\"{} day input {}\".format(i,x_input))\n",
    "        x_input=x_input.reshape(1,-1)\n",
    "        x_input = x_input.reshape((1, n_steps, 1))\n",
    "        #print(x_input)\n",
    "        yhat = model.predict(x_input, verbose=0)\n",
    "        print(\"{} day output {}\".format(i,yhat))\n",
    "        temp_input.extend(yhat[0].tolist())\n",
    "        temp_input=temp_input[1:]\n",
    "        #print(temp_input)\n",
    "        lst_output.extend(yhat.tolist())\n",
    "        i=i+1\n",
    "    else:\n",
    "        x_input = x_input.reshape((1, n_steps,1))\n",
    "        yhat = model.predict(x_input, verbose=0)\n",
    "        print(yhat[0])\n",
    "        temp_input.extend(yhat[0].tolist())\n",
    "        print(len(temp_input))\n",
    "        lst_output.extend(yhat.tolist())\n",
    "        i=i+1\n",
    "    \n",
    "\n",
    "print(lst_output)"
   ]
  },
  {
   "cell_type": "code",
   "execution_count": 53,
   "metadata": {},
   "outputs": [],
   "source": [
    "day_new=np.arange(1,101)\n",
    "day_pred=np.arange(101,131)"
   ]
  },
  {
   "cell_type": "code",
   "execution_count": 54,
   "metadata": {},
   "outputs": [
    {
     "data": {
      "text/plain": [
       "1257"
      ]
     },
     "execution_count": 54,
     "metadata": {},
     "output_type": "execute_result"
    }
   ],
   "source": [
    "len(df1)"
   ]
  },
  {
   "cell_type": "code",
   "execution_count": 55,
   "metadata": {},
   "outputs": [
    {
     "data": {
      "text/plain": [
       "[<matplotlib.lines.Line2D at 0x133f8dd2588>]"
      ]
     },
     "execution_count": 55,
     "metadata": {},
     "output_type": "execute_result"
    },
    {
     "data": {
      "image/png": "[encoded data removed]",
      "text/plain": [
       "<Figure size 432x288 with 1 Axes>"
      ]
     },
     "metadata": {
      "needs_background": "light"
     },
     "output_type": "display_data"
    }
   ],
   "source": [
    "plt.plot(day_new,scaler.inverse_transform(df1[1157:]))\n",
    "plt.plot(day_pred,scaler.inverse_transform(lst_output))"
   ]
  },
  {
   "cell_type": "code",
   "execution_count": 66,
   "metadata": {},
   "outputs": [
    {
     "data": {
      "text/plain": [
       "[<matplotlib.lines.Line2D at 0x133fa0d5240>]"
      ]
     },
     "execution_count": 66,
     "metadata": {},
     "output_type": "execute_result"
    },
    {
     "data": {
      "image/png": "[encoded data removed]",
      "text/plain": [
       "<Figure size 432x288 with 1 Axes>"
      ]
     },
     "metadata": {
      "needs_background": "light"
     },
     "output_type": "display_data"
    }
   ],
   "source": [
    "df3=df1.tolist()\n",
    "df3.extend(lst_output)\n",
    "plt.plot(df3[1100:])"
   ]
  },
  {
   "cell_type": "code",
   "execution_count": 57,
   "metadata": {},
   "outputs": [
    {
     "data": {
      "text/plain": [
       "[<matplotlib.lines.Line2D at 0x133fb20e6a0>]"
      ]
     },
     "execution_count": 57,
     "metadata": {},
     "output_type": "execute_result"
    },
    {
     "data": {
      "image/png": "[encoded data removed]",
      "text/plain": [
       "<Figure size 432x288 with 1 Axes>"
      ]
     },
     "metadata": {
      "needs_background": "light"
     },
     "output_type": "display_data"
    }
   ],
   "source": [
    "df3=scaler.inverse_transform(df3).tolist()\n",
    "plt.plot(df3)\n"
   ]
  },
  {
   "cell_type": "code",
   "execution_count": 59,
   "metadata": {},
   "outputs": [
    {
     "data": {
      "text/plain": [
       "30"
      ]
     },
     "execution_count": 59,
     "metadata": {},
     "output_type": "execute_result"
    }
   ],
   "source": [
    "len(lst_output)"
   ]
  },
  {
   "cell_type": "code",
   "execution_count": 60,
   "metadata": {},
   "outputs": [
    {
     "data": {
      "text/plain": [
       "[[0.9669072031974792],\n",
       " [0.9638293385505676],\n",
       " [0.9553529620170593],\n",
       " [0.9447349905967712],\n",
       " [0.9339433312416077],\n",
       " [0.9239907264709473],\n",
       " [0.9153518080711365],\n",
       " [0.9082212448120117],\n",
       " [0.9026359915733337],\n",
       " [0.8985316157341003],\n",
       " [0.8957675099372864],\n",
       " [0.8941514492034912],\n",
       " [0.8934592008590698],\n",
       " [0.8934544920921326],\n",
       " [0.8939066529273987],\n",
       " [0.8946039080619812],\n",
       " [0.8953633904457092],\n",
       " [0.8960385918617249],\n",
       " [0.8965201377868652],\n",
       " [0.896737277507782],\n",
       " [0.8966531753540039],\n",
       " [0.8962620496749878],\n",
       " [0.8955814838409424],\n",
       " [0.8946471810340881],\n",
       " [0.8935063481330872],\n",
       " [0.8922117352485657],\n",
       " [0.890816867351532],\n",
       " [0.8893716335296631],\n",
       " [0.8879197239875793],\n",
       " [0.8864973783493042]]"
      ]
     },
     "execution_count": 60,
     "metadata": {},
     "output_type": "execute_result"
    }
   ],
   "source": [
    "lst_output"
   ]
  },
  {
   "cell_type": "code",
   "execution_count": null,
   "metadata": {},
   "outputs": [],
   "source": []
  }
 ],
 "metadata": {
  "kernelspec": {
   "display_name": "Python 3",
   "language": "python",
   "name": "python3"
  },
  "language_info": {
   "codemirror_mode": {
    "name": "ipython",
    "version": 3
   },
   "file_extension": ".py",
   "mimetype": "text/x-python",
   "name": "python",
   "nbconvert_exporter": "python",
   "pygments_lexer": "ipython3",
   "version": "3.6.10"
  }
 },
 "nbformat": 4,
 "nbformat_minor": 4
}
